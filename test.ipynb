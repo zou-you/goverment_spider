{
 "cells": [
  {
   "cell_type": "code",
   "execution_count": 1,
   "metadata": {},
   "outputs": [],
   "source": [
    "import requests\n",
    "import datetime\n",
    "import time\n",
    "import sys\n",
    "import io\n",
    "import re\n",
    "import argparse\n",
    "from bs4 import BeautifulSoup\n",
    "import random\n",
    "from utils import sleep_time, title_pattern, content_pattern, write_file, now, MyHeaders, logger, timeout\n",
    "\n",
    "import urllib3\n",
    "# 禁用 InsecureRequest 警告\n",
    "urllib3.disable_warnings(urllib3.exceptions.InsecureRequestWarning)\n"
   ]
  },
  {
   "cell_type": "code",
   "execution_count": 4,
   "metadata": {},
   "outputs": [],
   "source": [
    "def get_bs(url):\n",
    "    headers = {'User-Agent': random.choice(MyHeaders)}\n",
    "    response = requests.get(url, headers=headers, verify=False)\n",
    "    response.encoding = 'utf-8'\n",
    "    bs = BeautifulSoup(response.content, \"html.parser\")\n",
    "    # BeautifulSoup(self._format(content), )\n",
    "\n",
    "    return bs, response"
   ]
  },
  {
   "cell_type": "code",
   "execution_count": 6,
   "metadata": {},
   "outputs": [
    {
     "ename": "SSLError",
     "evalue": "HTTPSConnectionPool(host='swt.yn.gov.cn', port=443): Max retries exceeded with url: /articles/46491 (Caused by SSLError(SSLError(1, '[SSL: BAD_ECPOINT] bad ecpoint (_ssl.c:1129)')))",
     "output_type": "error",
     "traceback": [
      "\u001b[0;31m---------------------------------------------------------------------------\u001b[0m",
      "\u001b[0;31mSSLError\u001b[0m                                  Traceback (most recent call last)",
      "File \u001b[0;32m~/anaconda3/envs/spider/lib/python3.9/site-packages/urllib3/connectionpool.py:715\u001b[0m, in \u001b[0;36mHTTPConnectionPool.urlopen\u001b[0;34m(self, method, url, body, headers, retries, redirect, assert_same_host, timeout, pool_timeout, release_conn, chunked, body_pos, **response_kw)\u001b[0m\n\u001b[1;32m    714\u001b[0m \u001b[38;5;66;03m# Make the request on the httplib connection object.\u001b[39;00m\n\u001b[0;32m--> 715\u001b[0m httplib_response \u001b[38;5;241m=\u001b[39m \u001b[38;5;28;43mself\u001b[39;49m\u001b[38;5;241;43m.\u001b[39;49m\u001b[43m_make_request\u001b[49m\u001b[43m(\u001b[49m\n\u001b[1;32m    716\u001b[0m \u001b[43m    \u001b[49m\u001b[43mconn\u001b[49m\u001b[43m,\u001b[49m\n\u001b[1;32m    717\u001b[0m \u001b[43m    \u001b[49m\u001b[43mmethod\u001b[49m\u001b[43m,\u001b[49m\n\u001b[1;32m    718\u001b[0m \u001b[43m    \u001b[49m\u001b[43murl\u001b[49m\u001b[43m,\u001b[49m\n\u001b[1;32m    719\u001b[0m \u001b[43m    \u001b[49m\u001b[43mtimeout\u001b[49m\u001b[38;5;241;43m=\u001b[39;49m\u001b[43mtimeout_obj\u001b[49m\u001b[43m,\u001b[49m\n\u001b[1;32m    720\u001b[0m \u001b[43m    \u001b[49m\u001b[43mbody\u001b[49m\u001b[38;5;241;43m=\u001b[39;49m\u001b[43mbody\u001b[49m\u001b[43m,\u001b[49m\n\u001b[1;32m    721\u001b[0m \u001b[43m    \u001b[49m\u001b[43mheaders\u001b[49m\u001b[38;5;241;43m=\u001b[39;49m\u001b[43mheaders\u001b[49m\u001b[43m,\u001b[49m\n\u001b[1;32m    722\u001b[0m \u001b[43m    \u001b[49m\u001b[43mchunked\u001b[49m\u001b[38;5;241;43m=\u001b[39;49m\u001b[43mchunked\u001b[49m\u001b[43m,\u001b[49m\n\u001b[1;32m    723\u001b[0m \u001b[43m\u001b[49m\u001b[43m)\u001b[49m\n\u001b[1;32m    725\u001b[0m \u001b[38;5;66;03m# If we're going to release the connection in ``finally:``, then\u001b[39;00m\n\u001b[1;32m    726\u001b[0m \u001b[38;5;66;03m# the response doesn't need to know about the connection. Otherwise\u001b[39;00m\n\u001b[1;32m    727\u001b[0m \u001b[38;5;66;03m# it will also try to release it and we'll have a double-release\u001b[39;00m\n\u001b[1;32m    728\u001b[0m \u001b[38;5;66;03m# mess.\u001b[39;00m\n",
      "File \u001b[0;32m~/anaconda3/envs/spider/lib/python3.9/site-packages/urllib3/connectionpool.py:404\u001b[0m, in \u001b[0;36mHTTPConnectionPool._make_request\u001b[0;34m(self, conn, method, url, timeout, chunked, **httplib_request_kw)\u001b[0m\n\u001b[1;32m    403\u001b[0m \u001b[38;5;28;01mtry\u001b[39;00m:\n\u001b[0;32m--> 404\u001b[0m     \u001b[38;5;28;43mself\u001b[39;49m\u001b[38;5;241;43m.\u001b[39;49m\u001b[43m_validate_conn\u001b[49m\u001b[43m(\u001b[49m\u001b[43mconn\u001b[49m\u001b[43m)\u001b[49m\n\u001b[1;32m    405\u001b[0m \u001b[38;5;28;01mexcept\u001b[39;00m (SocketTimeout, BaseSSLError) \u001b[38;5;28;01mas\u001b[39;00m e:\n\u001b[1;32m    406\u001b[0m     \u001b[38;5;66;03m# Py2 raises this as a BaseSSLError, Py3 raises it as socket timeout.\u001b[39;00m\n",
      "File \u001b[0;32m~/anaconda3/envs/spider/lib/python3.9/site-packages/urllib3/connectionpool.py:1058\u001b[0m, in \u001b[0;36mHTTPSConnectionPool._validate_conn\u001b[0;34m(self, conn)\u001b[0m\n\u001b[1;32m   1057\u001b[0m \u001b[38;5;28;01mif\u001b[39;00m \u001b[38;5;129;01mnot\u001b[39;00m \u001b[38;5;28mgetattr\u001b[39m(conn, \u001b[38;5;124m\"\u001b[39m\u001b[38;5;124msock\u001b[39m\u001b[38;5;124m\"\u001b[39m, \u001b[38;5;28;01mNone\u001b[39;00m):  \u001b[38;5;66;03m# AppEngine might not have  `.sock`\u001b[39;00m\n\u001b[0;32m-> 1058\u001b[0m     \u001b[43mconn\u001b[49m\u001b[38;5;241;43m.\u001b[39;49m\u001b[43mconnect\u001b[49m\u001b[43m(\u001b[49m\u001b[43m)\u001b[49m\n\u001b[1;32m   1060\u001b[0m \u001b[38;5;28;01mif\u001b[39;00m \u001b[38;5;129;01mnot\u001b[39;00m conn\u001b[38;5;241m.\u001b[39mis_verified:\n",
      "File \u001b[0;32m~/anaconda3/envs/spider/lib/python3.9/site-packages/urllib3/connection.py:419\u001b[0m, in \u001b[0;36mHTTPSConnection.connect\u001b[0;34m(self)\u001b[0m\n\u001b[1;32m    417\u001b[0m     context\u001b[38;5;241m.\u001b[39mload_default_certs()\n\u001b[0;32m--> 419\u001b[0m \u001b[38;5;28mself\u001b[39m\u001b[38;5;241m.\u001b[39msock \u001b[38;5;241m=\u001b[39m \u001b[43mssl_wrap_socket\u001b[49m\u001b[43m(\u001b[49m\n\u001b[1;32m    420\u001b[0m \u001b[43m    \u001b[49m\u001b[43msock\u001b[49m\u001b[38;5;241;43m=\u001b[39;49m\u001b[43mconn\u001b[49m\u001b[43m,\u001b[49m\n\u001b[1;32m    421\u001b[0m \u001b[43m    \u001b[49m\u001b[43mkeyfile\u001b[49m\u001b[38;5;241;43m=\u001b[39;49m\u001b[38;5;28;43mself\u001b[39;49m\u001b[38;5;241;43m.\u001b[39;49m\u001b[43mkey_file\u001b[49m\u001b[43m,\u001b[49m\n\u001b[1;32m    422\u001b[0m \u001b[43m    \u001b[49m\u001b[43mcertfile\u001b[49m\u001b[38;5;241;43m=\u001b[39;49m\u001b[38;5;28;43mself\u001b[39;49m\u001b[38;5;241;43m.\u001b[39;49m\u001b[43mcert_file\u001b[49m\u001b[43m,\u001b[49m\n\u001b[1;32m    423\u001b[0m \u001b[43m    \u001b[49m\u001b[43mkey_password\u001b[49m\u001b[38;5;241;43m=\u001b[39;49m\u001b[38;5;28;43mself\u001b[39;49m\u001b[38;5;241;43m.\u001b[39;49m\u001b[43mkey_password\u001b[49m\u001b[43m,\u001b[49m\n\u001b[1;32m    424\u001b[0m \u001b[43m    \u001b[49m\u001b[43mca_certs\u001b[49m\u001b[38;5;241;43m=\u001b[39;49m\u001b[38;5;28;43mself\u001b[39;49m\u001b[38;5;241;43m.\u001b[39;49m\u001b[43mca_certs\u001b[49m\u001b[43m,\u001b[49m\n\u001b[1;32m    425\u001b[0m \u001b[43m    \u001b[49m\u001b[43mca_cert_dir\u001b[49m\u001b[38;5;241;43m=\u001b[39;49m\u001b[38;5;28;43mself\u001b[39;49m\u001b[38;5;241;43m.\u001b[39;49m\u001b[43mca_cert_dir\u001b[49m\u001b[43m,\u001b[49m\n\u001b[1;32m    426\u001b[0m \u001b[43m    \u001b[49m\u001b[43mca_cert_data\u001b[49m\u001b[38;5;241;43m=\u001b[39;49m\u001b[38;5;28;43mself\u001b[39;49m\u001b[38;5;241;43m.\u001b[39;49m\u001b[43mca_cert_data\u001b[49m\u001b[43m,\u001b[49m\n\u001b[1;32m    427\u001b[0m \u001b[43m    \u001b[49m\u001b[43mserver_hostname\u001b[49m\u001b[38;5;241;43m=\u001b[39;49m\u001b[43mserver_hostname\u001b[49m\u001b[43m,\u001b[49m\n\u001b[1;32m    428\u001b[0m \u001b[43m    \u001b[49m\u001b[43mssl_context\u001b[49m\u001b[38;5;241;43m=\u001b[39;49m\u001b[43mcontext\u001b[49m\u001b[43m,\u001b[49m\n\u001b[1;32m    429\u001b[0m \u001b[43m    \u001b[49m\u001b[43mtls_in_tls\u001b[49m\u001b[38;5;241;43m=\u001b[39;49m\u001b[43mtls_in_tls\u001b[49m\u001b[43m,\u001b[49m\n\u001b[1;32m    430\u001b[0m \u001b[43m\u001b[49m\u001b[43m)\u001b[49m\n\u001b[1;32m    432\u001b[0m \u001b[38;5;66;03m# If we're using all defaults and the connection\u001b[39;00m\n\u001b[1;32m    433\u001b[0m \u001b[38;5;66;03m# is TLSv1 or TLSv1.1 we throw a DeprecationWarning\u001b[39;00m\n\u001b[1;32m    434\u001b[0m \u001b[38;5;66;03m# for the host.\u001b[39;00m\n",
      "File \u001b[0;32m~/anaconda3/envs/spider/lib/python3.9/site-packages/urllib3/util/ssl_.py:449\u001b[0m, in \u001b[0;36mssl_wrap_socket\u001b[0;34m(sock, keyfile, certfile, cert_reqs, ca_certs, server_hostname, ssl_version, ciphers, ssl_context, ca_cert_dir, key_password, ca_cert_data, tls_in_tls)\u001b[0m\n\u001b[1;32m    448\u001b[0m \u001b[38;5;28;01mif\u001b[39;00m send_sni:\n\u001b[0;32m--> 449\u001b[0m     ssl_sock \u001b[38;5;241m=\u001b[39m \u001b[43m_ssl_wrap_socket_impl\u001b[49m\u001b[43m(\u001b[49m\n\u001b[1;32m    450\u001b[0m \u001b[43m        \u001b[49m\u001b[43msock\u001b[49m\u001b[43m,\u001b[49m\u001b[43m \u001b[49m\u001b[43mcontext\u001b[49m\u001b[43m,\u001b[49m\u001b[43m \u001b[49m\u001b[43mtls_in_tls\u001b[49m\u001b[43m,\u001b[49m\u001b[43m \u001b[49m\u001b[43mserver_hostname\u001b[49m\u001b[38;5;241;43m=\u001b[39;49m\u001b[43mserver_hostname\u001b[49m\n\u001b[1;32m    451\u001b[0m \u001b[43m    \u001b[49m\u001b[43m)\u001b[49m\n\u001b[1;32m    452\u001b[0m \u001b[38;5;28;01melse\u001b[39;00m:\n",
      "File \u001b[0;32m~/anaconda3/envs/spider/lib/python3.9/site-packages/urllib3/util/ssl_.py:493\u001b[0m, in \u001b[0;36m_ssl_wrap_socket_impl\u001b[0;34m(sock, ssl_context, tls_in_tls, server_hostname)\u001b[0m\n\u001b[1;32m    492\u001b[0m \u001b[38;5;28;01mif\u001b[39;00m server_hostname:\n\u001b[0;32m--> 493\u001b[0m     \u001b[38;5;28;01mreturn\u001b[39;00m \u001b[43mssl_context\u001b[49m\u001b[38;5;241;43m.\u001b[39;49m\u001b[43mwrap_socket\u001b[49m\u001b[43m(\u001b[49m\u001b[43msock\u001b[49m\u001b[43m,\u001b[49m\u001b[43m \u001b[49m\u001b[43mserver_hostname\u001b[49m\u001b[38;5;241;43m=\u001b[39;49m\u001b[43mserver_hostname\u001b[49m\u001b[43m)\u001b[49m\n\u001b[1;32m    494\u001b[0m \u001b[38;5;28;01melse\u001b[39;00m:\n",
      "File \u001b[0;32m~/anaconda3/envs/spider/lib/python3.9/ssl.py:501\u001b[0m, in \u001b[0;36mSSLContext.wrap_socket\u001b[0;34m(self, sock, server_side, do_handshake_on_connect, suppress_ragged_eofs, server_hostname, session)\u001b[0m\n\u001b[1;32m    495\u001b[0m \u001b[38;5;28;01mdef\u001b[39;00m \u001b[38;5;21mwrap_socket\u001b[39m(\u001b[38;5;28mself\u001b[39m, sock, server_side\u001b[38;5;241m=\u001b[39m\u001b[38;5;28;01mFalse\u001b[39;00m,\n\u001b[1;32m    496\u001b[0m                 do_handshake_on_connect\u001b[38;5;241m=\u001b[39m\u001b[38;5;28;01mTrue\u001b[39;00m,\n\u001b[1;32m    497\u001b[0m                 suppress_ragged_eofs\u001b[38;5;241m=\u001b[39m\u001b[38;5;28;01mTrue\u001b[39;00m,\n\u001b[1;32m    498\u001b[0m                 server_hostname\u001b[38;5;241m=\u001b[39m\u001b[38;5;28;01mNone\u001b[39;00m, session\u001b[38;5;241m=\u001b[39m\u001b[38;5;28;01mNone\u001b[39;00m):\n\u001b[1;32m    499\u001b[0m     \u001b[38;5;66;03m# SSLSocket class handles server_hostname encoding before it calls\u001b[39;00m\n\u001b[1;32m    500\u001b[0m     \u001b[38;5;66;03m# ctx._wrap_socket()\u001b[39;00m\n\u001b[0;32m--> 501\u001b[0m     \u001b[38;5;28;01mreturn\u001b[39;00m \u001b[38;5;28;43mself\u001b[39;49m\u001b[38;5;241;43m.\u001b[39;49m\u001b[43msslsocket_class\u001b[49m\u001b[38;5;241;43m.\u001b[39;49m\u001b[43m_create\u001b[49m\u001b[43m(\u001b[49m\n\u001b[1;32m    502\u001b[0m \u001b[43m        \u001b[49m\u001b[43msock\u001b[49m\u001b[38;5;241;43m=\u001b[39;49m\u001b[43msock\u001b[49m\u001b[43m,\u001b[49m\n\u001b[1;32m    503\u001b[0m \u001b[43m        \u001b[49m\u001b[43mserver_side\u001b[49m\u001b[38;5;241;43m=\u001b[39;49m\u001b[43mserver_side\u001b[49m\u001b[43m,\u001b[49m\n\u001b[1;32m    504\u001b[0m \u001b[43m        \u001b[49m\u001b[43mdo_handshake_on_connect\u001b[49m\u001b[38;5;241;43m=\u001b[39;49m\u001b[43mdo_handshake_on_connect\u001b[49m\u001b[43m,\u001b[49m\n\u001b[1;32m    505\u001b[0m \u001b[43m        \u001b[49m\u001b[43msuppress_ragged_eofs\u001b[49m\u001b[38;5;241;43m=\u001b[39;49m\u001b[43msuppress_ragged_eofs\u001b[49m\u001b[43m,\u001b[49m\n\u001b[1;32m    506\u001b[0m \u001b[43m        \u001b[49m\u001b[43mserver_hostname\u001b[49m\u001b[38;5;241;43m=\u001b[39;49m\u001b[43mserver_hostname\u001b[49m\u001b[43m,\u001b[49m\n\u001b[1;32m    507\u001b[0m \u001b[43m        \u001b[49m\u001b[43mcontext\u001b[49m\u001b[38;5;241;43m=\u001b[39;49m\u001b[38;5;28;43mself\u001b[39;49m\u001b[43m,\u001b[49m\n\u001b[1;32m    508\u001b[0m \u001b[43m        \u001b[49m\u001b[43msession\u001b[49m\u001b[38;5;241;43m=\u001b[39;49m\u001b[43msession\u001b[49m\n\u001b[1;32m    509\u001b[0m \u001b[43m    \u001b[49m\u001b[43m)\u001b[49m\n",
      "File \u001b[0;32m~/anaconda3/envs/spider/lib/python3.9/ssl.py:1074\u001b[0m, in \u001b[0;36mSSLSocket._create\u001b[0;34m(cls, sock, server_side, do_handshake_on_connect, suppress_ragged_eofs, server_hostname, context, session)\u001b[0m\n\u001b[1;32m   1073\u001b[0m             \u001b[38;5;28;01mraise\u001b[39;00m \u001b[38;5;167;01mValueError\u001b[39;00m(\u001b[38;5;124m\"\u001b[39m\u001b[38;5;124mdo_handshake_on_connect should not be specified for non-blocking sockets\u001b[39m\u001b[38;5;124m\"\u001b[39m)\n\u001b[0;32m-> 1074\u001b[0m         \u001b[38;5;28;43mself\u001b[39;49m\u001b[38;5;241;43m.\u001b[39;49m\u001b[43mdo_handshake\u001b[49m\u001b[43m(\u001b[49m\u001b[43m)\u001b[49m\n\u001b[1;32m   1075\u001b[0m \u001b[38;5;28;01mexcept\u001b[39;00m (\u001b[38;5;167;01mOSError\u001b[39;00m, \u001b[38;5;167;01mValueError\u001b[39;00m):\n",
      "File \u001b[0;32m~/anaconda3/envs/spider/lib/python3.9/ssl.py:1343\u001b[0m, in \u001b[0;36mSSLSocket.do_handshake\u001b[0;34m(self, block)\u001b[0m\n\u001b[1;32m   1342\u001b[0m         \u001b[38;5;28mself\u001b[39m\u001b[38;5;241m.\u001b[39msettimeout(\u001b[38;5;28;01mNone\u001b[39;00m)\n\u001b[0;32m-> 1343\u001b[0m     \u001b[38;5;28;43mself\u001b[39;49m\u001b[38;5;241;43m.\u001b[39;49m\u001b[43m_sslobj\u001b[49m\u001b[38;5;241;43m.\u001b[39;49m\u001b[43mdo_handshake\u001b[49m\u001b[43m(\u001b[49m\u001b[43m)\u001b[49m\n\u001b[1;32m   1344\u001b[0m \u001b[38;5;28;01mfinally\u001b[39;00m:\n",
      "\u001b[0;31mSSLError\u001b[0m: [SSL: BAD_ECPOINT] bad ecpoint (_ssl.c:1129)",
      "\nDuring handling of the above exception, another exception occurred:\n",
      "\u001b[0;31mMaxRetryError\u001b[0m                             Traceback (most recent call last)",
      "File \u001b[0;32m~/anaconda3/envs/spider/lib/python3.9/site-packages/requests/adapters.py:486\u001b[0m, in \u001b[0;36mHTTPAdapter.send\u001b[0;34m(self, request, stream, timeout, verify, cert, proxies)\u001b[0m\n\u001b[1;32m    485\u001b[0m \u001b[38;5;28;01mtry\u001b[39;00m:\n\u001b[0;32m--> 486\u001b[0m     resp \u001b[38;5;241m=\u001b[39m \u001b[43mconn\u001b[49m\u001b[38;5;241;43m.\u001b[39;49m\u001b[43murlopen\u001b[49m\u001b[43m(\u001b[49m\n\u001b[1;32m    487\u001b[0m \u001b[43m        \u001b[49m\u001b[43mmethod\u001b[49m\u001b[38;5;241;43m=\u001b[39;49m\u001b[43mrequest\u001b[49m\u001b[38;5;241;43m.\u001b[39;49m\u001b[43mmethod\u001b[49m\u001b[43m,\u001b[49m\n\u001b[1;32m    488\u001b[0m \u001b[43m        \u001b[49m\u001b[43murl\u001b[49m\u001b[38;5;241;43m=\u001b[39;49m\u001b[43murl\u001b[49m\u001b[43m,\u001b[49m\n\u001b[1;32m    489\u001b[0m \u001b[43m        \u001b[49m\u001b[43mbody\u001b[49m\u001b[38;5;241;43m=\u001b[39;49m\u001b[43mrequest\u001b[49m\u001b[38;5;241;43m.\u001b[39;49m\u001b[43mbody\u001b[49m\u001b[43m,\u001b[49m\n\u001b[1;32m    490\u001b[0m \u001b[43m        \u001b[49m\u001b[43mheaders\u001b[49m\u001b[38;5;241;43m=\u001b[39;49m\u001b[43mrequest\u001b[49m\u001b[38;5;241;43m.\u001b[39;49m\u001b[43mheaders\u001b[49m\u001b[43m,\u001b[49m\n\u001b[1;32m    491\u001b[0m \u001b[43m        \u001b[49m\u001b[43mredirect\u001b[49m\u001b[38;5;241;43m=\u001b[39;49m\u001b[38;5;28;43;01mFalse\u001b[39;49;00m\u001b[43m,\u001b[49m\n\u001b[1;32m    492\u001b[0m \u001b[43m        \u001b[49m\u001b[43massert_same_host\u001b[49m\u001b[38;5;241;43m=\u001b[39;49m\u001b[38;5;28;43;01mFalse\u001b[39;49;00m\u001b[43m,\u001b[49m\n\u001b[1;32m    493\u001b[0m \u001b[43m        \u001b[49m\u001b[43mpreload_content\u001b[49m\u001b[38;5;241;43m=\u001b[39;49m\u001b[38;5;28;43;01mFalse\u001b[39;49;00m\u001b[43m,\u001b[49m\n\u001b[1;32m    494\u001b[0m \u001b[43m        \u001b[49m\u001b[43mdecode_content\u001b[49m\u001b[38;5;241;43m=\u001b[39;49m\u001b[38;5;28;43;01mFalse\u001b[39;49;00m\u001b[43m,\u001b[49m\n\u001b[1;32m    495\u001b[0m \u001b[43m        \u001b[49m\u001b[43mretries\u001b[49m\u001b[38;5;241;43m=\u001b[39;49m\u001b[38;5;28;43mself\u001b[39;49m\u001b[38;5;241;43m.\u001b[39;49m\u001b[43mmax_retries\u001b[49m\u001b[43m,\u001b[49m\n\u001b[1;32m    496\u001b[0m \u001b[43m        \u001b[49m\u001b[43mtimeout\u001b[49m\u001b[38;5;241;43m=\u001b[39;49m\u001b[43mtimeout\u001b[49m\u001b[43m,\u001b[49m\n\u001b[1;32m    497\u001b[0m \u001b[43m        \u001b[49m\u001b[43mchunked\u001b[49m\u001b[38;5;241;43m=\u001b[39;49m\u001b[43mchunked\u001b[49m\u001b[43m,\u001b[49m\n\u001b[1;32m    498\u001b[0m \u001b[43m    \u001b[49m\u001b[43m)\u001b[49m\n\u001b[1;32m    500\u001b[0m \u001b[38;5;28;01mexcept\u001b[39;00m (ProtocolError, \u001b[38;5;167;01mOSError\u001b[39;00m) \u001b[38;5;28;01mas\u001b[39;00m err:\n",
      "File \u001b[0;32m~/anaconda3/envs/spider/lib/python3.9/site-packages/urllib3/connectionpool.py:799\u001b[0m, in \u001b[0;36mHTTPConnectionPool.urlopen\u001b[0;34m(self, method, url, body, headers, retries, redirect, assert_same_host, timeout, pool_timeout, release_conn, chunked, body_pos, **response_kw)\u001b[0m\n\u001b[1;32m    797\u001b[0m     e \u001b[38;5;241m=\u001b[39m ProtocolError(\u001b[38;5;124m\"\u001b[39m\u001b[38;5;124mConnection aborted.\u001b[39m\u001b[38;5;124m\"\u001b[39m, e)\n\u001b[0;32m--> 799\u001b[0m retries \u001b[38;5;241m=\u001b[39m \u001b[43mretries\u001b[49m\u001b[38;5;241;43m.\u001b[39;49m\u001b[43mincrement\u001b[49m\u001b[43m(\u001b[49m\n\u001b[1;32m    800\u001b[0m \u001b[43m    \u001b[49m\u001b[43mmethod\u001b[49m\u001b[43m,\u001b[49m\u001b[43m \u001b[49m\u001b[43murl\u001b[49m\u001b[43m,\u001b[49m\u001b[43m \u001b[49m\u001b[43merror\u001b[49m\u001b[38;5;241;43m=\u001b[39;49m\u001b[43me\u001b[49m\u001b[43m,\u001b[49m\u001b[43m \u001b[49m\u001b[43m_pool\u001b[49m\u001b[38;5;241;43m=\u001b[39;49m\u001b[38;5;28;43mself\u001b[39;49m\u001b[43m,\u001b[49m\u001b[43m \u001b[49m\u001b[43m_stacktrace\u001b[49m\u001b[38;5;241;43m=\u001b[39;49m\u001b[43msys\u001b[49m\u001b[38;5;241;43m.\u001b[39;49m\u001b[43mexc_info\u001b[49m\u001b[43m(\u001b[49m\u001b[43m)\u001b[49m\u001b[43m[\u001b[49m\u001b[38;5;241;43m2\u001b[39;49m\u001b[43m]\u001b[49m\n\u001b[1;32m    801\u001b[0m \u001b[43m\u001b[49m\u001b[43m)\u001b[49m\n\u001b[1;32m    802\u001b[0m retries\u001b[38;5;241m.\u001b[39msleep()\n",
      "File \u001b[0;32m~/anaconda3/envs/spider/lib/python3.9/site-packages/urllib3/util/retry.py:592\u001b[0m, in \u001b[0;36mRetry.increment\u001b[0;34m(self, method, url, response, error, _pool, _stacktrace)\u001b[0m\n\u001b[1;32m    591\u001b[0m \u001b[38;5;28;01mif\u001b[39;00m new_retry\u001b[38;5;241m.\u001b[39mis_exhausted():\n\u001b[0;32m--> 592\u001b[0m     \u001b[38;5;28;01mraise\u001b[39;00m MaxRetryError(_pool, url, error \u001b[38;5;129;01mor\u001b[39;00m ResponseError(cause))\n\u001b[1;32m    594\u001b[0m log\u001b[38;5;241m.\u001b[39mdebug(\u001b[38;5;124m\"\u001b[39m\u001b[38;5;124mIncremented Retry for (url=\u001b[39m\u001b[38;5;124m'\u001b[39m\u001b[38;5;132;01m%s\u001b[39;00m\u001b[38;5;124m'\u001b[39m\u001b[38;5;124m): \u001b[39m\u001b[38;5;132;01m%r\u001b[39;00m\u001b[38;5;124m\"\u001b[39m, url, new_retry)\n",
      "\u001b[0;31mMaxRetryError\u001b[0m: HTTPSConnectionPool(host='swt.yn.gov.cn', port=443): Max retries exceeded with url: /articles/46491 (Caused by SSLError(SSLError(1, '[SSL: BAD_ECPOINT] bad ecpoint (_ssl.c:1129)')))",
      "\nDuring handling of the above exception, another exception occurred:\n",
      "\u001b[0;31mSSLError\u001b[0m                                  Traceback (most recent call last)",
      "Cell \u001b[0;32mIn[6], line 4\u001b[0m\n\u001b[1;32m      1\u001b[0m url_index \u001b[38;5;241m=\u001b[39m \u001b[38;5;124mf\u001b[39m\u001b[38;5;124m\"\u001b[39m\u001b[38;5;124mhttps://swt.yn.gov.cn/articles/46491\u001b[39m\u001b[38;5;124m\"\u001b[39m\n\u001b[1;32m      3\u001b[0m \u001b[38;5;66;03m# 访问链接\u001b[39;00m\n\u001b[0;32m----> 4\u001b[0m bs, response \u001b[38;5;241m=\u001b[39m \u001b[43mget_bs\u001b[49m\u001b[43m(\u001b[49m\u001b[43murl_index\u001b[49m\u001b[43m)\u001b[49m\n\u001b[1;32m      6\u001b[0m bs\n",
      "Cell \u001b[0;32mIn[4], line 3\u001b[0m, in \u001b[0;36mget_bs\u001b[0;34m(url)\u001b[0m\n\u001b[1;32m      1\u001b[0m \u001b[38;5;28;01mdef\u001b[39;00m \u001b[38;5;21mget_bs\u001b[39m(url):\n\u001b[1;32m      2\u001b[0m     headers \u001b[38;5;241m=\u001b[39m {\u001b[38;5;124m'\u001b[39m\u001b[38;5;124mUser-Agent\u001b[39m\u001b[38;5;124m'\u001b[39m: random\u001b[38;5;241m.\u001b[39mchoice(MyHeaders)}\n\u001b[0;32m----> 3\u001b[0m     response \u001b[38;5;241m=\u001b[39m \u001b[43mrequests\u001b[49m\u001b[38;5;241;43m.\u001b[39;49m\u001b[43mget\u001b[49m\u001b[43m(\u001b[49m\u001b[43murl\u001b[49m\u001b[43m,\u001b[49m\u001b[43m \u001b[49m\u001b[43mheaders\u001b[49m\u001b[38;5;241;43m=\u001b[39;49m\u001b[43mheaders\u001b[49m\u001b[43m,\u001b[49m\u001b[43m \u001b[49m\u001b[43mverify\u001b[49m\u001b[38;5;241;43m=\u001b[39;49m\u001b[38;5;28;43;01mFalse\u001b[39;49;00m\u001b[43m)\u001b[49m\n\u001b[1;32m      4\u001b[0m     response\u001b[38;5;241m.\u001b[39mencoding \u001b[38;5;241m=\u001b[39m \u001b[38;5;124m'\u001b[39m\u001b[38;5;124mutf-8\u001b[39m\u001b[38;5;124m'\u001b[39m\n\u001b[1;32m      5\u001b[0m     bs \u001b[38;5;241m=\u001b[39m BeautifulSoup(response\u001b[38;5;241m.\u001b[39mcontent, \u001b[38;5;124m\"\u001b[39m\u001b[38;5;124mhtml.parser\u001b[39m\u001b[38;5;124m\"\u001b[39m)\n",
      "File \u001b[0;32m~/anaconda3/envs/spider/lib/python3.9/site-packages/requests/api.py:73\u001b[0m, in \u001b[0;36mget\u001b[0;34m(url, params, **kwargs)\u001b[0m\n\u001b[1;32m     62\u001b[0m \u001b[38;5;28;01mdef\u001b[39;00m \u001b[38;5;21mget\u001b[39m(url, params\u001b[38;5;241m=\u001b[39m\u001b[38;5;28;01mNone\u001b[39;00m, \u001b[38;5;241m*\u001b[39m\u001b[38;5;241m*\u001b[39mkwargs):\n\u001b[1;32m     63\u001b[0m \u001b[38;5;250m    \u001b[39m\u001b[38;5;124mr\u001b[39m\u001b[38;5;124;03m\"\"\"Sends a GET request.\u001b[39;00m\n\u001b[1;32m     64\u001b[0m \n\u001b[1;32m     65\u001b[0m \u001b[38;5;124;03m    :param url: URL for the new :class:`Request` object.\u001b[39;00m\n\u001b[0;32m   (...)\u001b[0m\n\u001b[1;32m     70\u001b[0m \u001b[38;5;124;03m    :rtype: requests.Response\u001b[39;00m\n\u001b[1;32m     71\u001b[0m \u001b[38;5;124;03m    \"\"\"\u001b[39;00m\n\u001b[0;32m---> 73\u001b[0m     \u001b[38;5;28;01mreturn\u001b[39;00m \u001b[43mrequest\u001b[49m\u001b[43m(\u001b[49m\u001b[38;5;124;43m\"\u001b[39;49m\u001b[38;5;124;43mget\u001b[39;49m\u001b[38;5;124;43m\"\u001b[39;49m\u001b[43m,\u001b[49m\u001b[43m \u001b[49m\u001b[43murl\u001b[49m\u001b[43m,\u001b[49m\u001b[43m \u001b[49m\u001b[43mparams\u001b[49m\u001b[38;5;241;43m=\u001b[39;49m\u001b[43mparams\u001b[49m\u001b[43m,\u001b[49m\u001b[43m \u001b[49m\u001b[38;5;241;43m*\u001b[39;49m\u001b[38;5;241;43m*\u001b[39;49m\u001b[43mkwargs\u001b[49m\u001b[43m)\u001b[49m\n",
      "File \u001b[0;32m~/anaconda3/envs/spider/lib/python3.9/site-packages/requests/api.py:59\u001b[0m, in \u001b[0;36mrequest\u001b[0;34m(method, url, **kwargs)\u001b[0m\n\u001b[1;32m     55\u001b[0m \u001b[38;5;66;03m# By using the 'with' statement we are sure the session is closed, thus we\u001b[39;00m\n\u001b[1;32m     56\u001b[0m \u001b[38;5;66;03m# avoid leaving sockets open which can trigger a ResourceWarning in some\u001b[39;00m\n\u001b[1;32m     57\u001b[0m \u001b[38;5;66;03m# cases, and look like a memory leak in others.\u001b[39;00m\n\u001b[1;32m     58\u001b[0m \u001b[38;5;28;01mwith\u001b[39;00m sessions\u001b[38;5;241m.\u001b[39mSession() \u001b[38;5;28;01mas\u001b[39;00m session:\n\u001b[0;32m---> 59\u001b[0m     \u001b[38;5;28;01mreturn\u001b[39;00m \u001b[43msession\u001b[49m\u001b[38;5;241;43m.\u001b[39;49m\u001b[43mrequest\u001b[49m\u001b[43m(\u001b[49m\u001b[43mmethod\u001b[49m\u001b[38;5;241;43m=\u001b[39;49m\u001b[43mmethod\u001b[49m\u001b[43m,\u001b[49m\u001b[43m \u001b[49m\u001b[43murl\u001b[49m\u001b[38;5;241;43m=\u001b[39;49m\u001b[43murl\u001b[49m\u001b[43m,\u001b[49m\u001b[43m \u001b[49m\u001b[38;5;241;43m*\u001b[39;49m\u001b[38;5;241;43m*\u001b[39;49m\u001b[43mkwargs\u001b[49m\u001b[43m)\u001b[49m\n",
      "File \u001b[0;32m~/anaconda3/envs/spider/lib/python3.9/site-packages/requests/sessions.py:589\u001b[0m, in \u001b[0;36mSession.request\u001b[0;34m(self, method, url, params, data, headers, cookies, files, auth, timeout, allow_redirects, proxies, hooks, stream, verify, cert, json)\u001b[0m\n\u001b[1;32m    584\u001b[0m send_kwargs \u001b[38;5;241m=\u001b[39m {\n\u001b[1;32m    585\u001b[0m     \u001b[38;5;124m\"\u001b[39m\u001b[38;5;124mtimeout\u001b[39m\u001b[38;5;124m\"\u001b[39m: timeout,\n\u001b[1;32m    586\u001b[0m     \u001b[38;5;124m\"\u001b[39m\u001b[38;5;124mallow_redirects\u001b[39m\u001b[38;5;124m\"\u001b[39m: allow_redirects,\n\u001b[1;32m    587\u001b[0m }\n\u001b[1;32m    588\u001b[0m send_kwargs\u001b[38;5;241m.\u001b[39mupdate(settings)\n\u001b[0;32m--> 589\u001b[0m resp \u001b[38;5;241m=\u001b[39m \u001b[38;5;28;43mself\u001b[39;49m\u001b[38;5;241;43m.\u001b[39;49m\u001b[43msend\u001b[49m\u001b[43m(\u001b[49m\u001b[43mprep\u001b[49m\u001b[43m,\u001b[49m\u001b[43m \u001b[49m\u001b[38;5;241;43m*\u001b[39;49m\u001b[38;5;241;43m*\u001b[39;49m\u001b[43msend_kwargs\u001b[49m\u001b[43m)\u001b[49m\n\u001b[1;32m    591\u001b[0m \u001b[38;5;28;01mreturn\u001b[39;00m resp\n",
      "File \u001b[0;32m~/anaconda3/envs/spider/lib/python3.9/site-packages/requests/sessions.py:703\u001b[0m, in \u001b[0;36mSession.send\u001b[0;34m(self, request, **kwargs)\u001b[0m\n\u001b[1;32m    700\u001b[0m start \u001b[38;5;241m=\u001b[39m preferred_clock()\n\u001b[1;32m    702\u001b[0m \u001b[38;5;66;03m# Send the request\u001b[39;00m\n\u001b[0;32m--> 703\u001b[0m r \u001b[38;5;241m=\u001b[39m \u001b[43madapter\u001b[49m\u001b[38;5;241;43m.\u001b[39;49m\u001b[43msend\u001b[49m\u001b[43m(\u001b[49m\u001b[43mrequest\u001b[49m\u001b[43m,\u001b[49m\u001b[43m \u001b[49m\u001b[38;5;241;43m*\u001b[39;49m\u001b[38;5;241;43m*\u001b[39;49m\u001b[43mkwargs\u001b[49m\u001b[43m)\u001b[49m\n\u001b[1;32m    705\u001b[0m \u001b[38;5;66;03m# Total elapsed time of the request (approximately)\u001b[39;00m\n\u001b[1;32m    706\u001b[0m elapsed \u001b[38;5;241m=\u001b[39m preferred_clock() \u001b[38;5;241m-\u001b[39m start\n",
      "File \u001b[0;32m~/anaconda3/envs/spider/lib/python3.9/site-packages/requests/adapters.py:517\u001b[0m, in \u001b[0;36mHTTPAdapter.send\u001b[0;34m(self, request, stream, timeout, verify, cert, proxies)\u001b[0m\n\u001b[1;32m    513\u001b[0m         \u001b[38;5;28;01mraise\u001b[39;00m ProxyError(e, request\u001b[38;5;241m=\u001b[39mrequest)\n\u001b[1;32m    515\u001b[0m     \u001b[38;5;28;01mif\u001b[39;00m \u001b[38;5;28misinstance\u001b[39m(e\u001b[38;5;241m.\u001b[39mreason, _SSLError):\n\u001b[1;32m    516\u001b[0m         \u001b[38;5;66;03m# This branch is for urllib3 v1.22 and later.\u001b[39;00m\n\u001b[0;32m--> 517\u001b[0m         \u001b[38;5;28;01mraise\u001b[39;00m SSLError(e, request\u001b[38;5;241m=\u001b[39mrequest)\n\u001b[1;32m    519\u001b[0m     \u001b[38;5;28;01mraise\u001b[39;00m \u001b[38;5;167;01mConnectionError\u001b[39;00m(e, request\u001b[38;5;241m=\u001b[39mrequest)\n\u001b[1;32m    521\u001b[0m \u001b[38;5;28;01mexcept\u001b[39;00m ClosedPoolError \u001b[38;5;28;01mas\u001b[39;00m e:\n",
      "\u001b[0;31mSSLError\u001b[0m: HTTPSConnectionPool(host='swt.yn.gov.cn', port=443): Max retries exceeded with url: /articles/46491 (Caused by SSLError(SSLError(1, '[SSL: BAD_ECPOINT] bad ecpoint (_ssl.c:1129)')))"
     ]
    }
   ],
   "source": [
    "url_index = f\"https://swt.yn.gov.cn/articles/46491\"\n",
    "\n",
    "# 访问链接\n",
    "bs, response = get_bs(url_index)\n",
    "\n",
    "bs\n"
   ]
  },
  {
   "cell_type": "code",
   "execution_count": 10,
   "metadata": {},
   "outputs": [
    {
     "name": "stdout",
     "output_type": "stream",
     "text": [
      "0 51\n"
     ]
    }
   ],
   "source": [
    "text_list = bs.select('li a.b-free-read-leaf')\n",
    "time_list = bs.select('.fr.li-btn')\n",
    "# time_list = bs.select('.container.ty.jb table>tbody>tr>td[align=\"center\"]')\n",
    "print(len(text_list), len(time_list))"
   ]
  },
  {
   "cell_type": "code",
   "execution_count": 41,
   "metadata": {},
   "outputs": [
    {
     "data": {
      "text/plain": [
       "'关于公开征求《江西省中央预算内投资和省基建投资项目评估督导办法（征求意见稿）》意见的公告'"
      ]
     },
     "execution_count": 41,
     "metadata": {},
     "output_type": "execute_result"
    }
   ],
   "source": [
    "bs.find('p', class_='sp_title').get_text(strip=True).strip().replace('·', '').replace('\\n', '')"
   ]
  },
  {
   "cell_type": "code",
   "execution_count": 5,
   "metadata": {},
   "outputs": [
    {
     "data": {
      "text/plain": [
       "[]"
      ]
     },
     "execution_count": 5,
     "metadata": {},
     "output_type": "execute_result"
    }
   ],
   "source": [
    "text_list"
   ]
  },
  {
   "cell_type": "code",
   "execution_count": null,
   "metadata": {},
   "outputs": [],
   "source": [
    "https://swj.jiujiang.gov.cn/zwzx_213/gggs/./202405/t20240522_6553911.html"
   ]
  },
  {
   "cell_type": "code",
   "execution_count": 51,
   "metadata": {},
   "outputs": [
    {
     "data": {
      "text/plain": [
       "[<a class=\"sbtn next\"></a>,\n",
       " <div class=\"next\" id=\"next\"></div>,\n",
       " <a class=\"next\" href=\"http://news.cheaa.com/index_2.shtml\">&gt;</a>]"
      ]
     },
     "execution_count": 51,
     "metadata": {},
     "output_type": "execute_result"
    }
   ],
   "source": [
    "bs.find('a', {'class': 'next'})"
   ]
  },
  {
   "cell_type": "code",
   "execution_count": 6,
   "metadata": {},
   "outputs": [
    {
     "data": {
      "text/plain": [
       "[<div class=\"fr li-btn\">\n",
       "                                         2024-10-09\n",
       "                                     </div>,\n",
       " <div class=\"fr li-btn\">\n",
       "                                         2024-10-09\n",
       "                                     </div>,\n",
       " <div class=\"fr li-btn\">\n",
       "                                         2024-10-09\n",
       "                                     </div>,\n",
       " <div class=\"fr li-btn\">\n",
       "                                         2024-09-26\n",
       "                                     </div>,\n",
       " <div class=\"fr li-btn\">\n",
       "                                         2024-09-26\n",
       "                                     </div>,\n",
       " <div class=\"fr li-btn\">\n",
       "                                         2024-09-26\n",
       "                                     </div>,\n",
       " <div class=\"fr li-btn\">\n",
       "                                         2024-09-26\n",
       "                                     </div>,\n",
       " <div class=\"fr li-btn\">\n",
       "                                         2024-09-26\n",
       "                                     </div>,\n",
       " <div class=\"fr li-btn\">\n",
       "                                         2024-09-26\n",
       "                                     </div>,\n",
       " <div class=\"fr li-btn\">\n",
       "                                         2024-09-26\n",
       "                                     </div>,\n",
       " <div class=\"fr li-btn\">\n",
       "                                         2024-09-26\n",
       "                                     </div>,\n",
       " <div class=\"fr li-btn\">\n",
       "                                         2024-09-26\n",
       "                                     </div>,\n",
       " <div class=\"fr li-btn\">\n",
       "                                         2024-09-23\n",
       "                                     </div>,\n",
       " <div class=\"fr li-btn\">\n",
       "                                         2024-09-23\n",
       "                                     </div>,\n",
       " <div class=\"fr li-btn\">\n",
       "                                         2024-09-19\n",
       "                                     </div>,\n",
       " <div class=\"fr li-btn\">\n",
       "                                         2024-09-19\n",
       "                                     </div>,\n",
       " <div class=\"fr li-btn\">\n",
       "                                         2024-09-19\n",
       "                                     </div>,\n",
       " <div class=\"fr li-btn\">\n",
       "                                         2024-09-19\n",
       "                                     </div>,\n",
       " <div class=\"fr li-btn\">\n",
       "                                         2024-09-19\n",
       "                                     </div>,\n",
       " <div class=\"fr li-btn\">\n",
       "                                         2024-09-11\n",
       "                                     </div>,\n",
       " <div class=\"fr li-btn\">\n",
       "                                         2024-09-11\n",
       "                                     </div>,\n",
       " <div class=\"fr li-btn\">\n",
       "                                         2024-09-11\n",
       "                                     </div>,\n",
       " <div class=\"fr li-btn\">\n",
       "                                         2024-09-11\n",
       "                                     </div>,\n",
       " <div class=\"fr li-btn\">\n",
       "                                         2024-09-10\n",
       "                                     </div>,\n",
       " <div class=\"fr li-btn\">\n",
       "                                         2024-09-05\n",
       "                                     </div>,\n",
       " <div class=\"fr li-btn\">\n",
       "                                         2024-09-05\n",
       "                                     </div>,\n",
       " <div class=\"fr li-btn\">\n",
       "                                         2024-09-05\n",
       "                                     </div>,\n",
       " <div class=\"fr li-btn\">\n",
       "                                         2024-09-03\n",
       "                                     </div>,\n",
       " <div class=\"fr li-btn\">\n",
       "                                         2024-08-29\n",
       "                                     </div>,\n",
       " <div class=\"fr li-btn\">\n",
       "                                         2024-08-29\n",
       "                                     </div>,\n",
       " <div class=\"fr li-btn\">\n",
       "                                         2024-08-29\n",
       "                                     </div>,\n",
       " <div class=\"fr li-btn\">\n",
       "                                         2024-08-29\n",
       "                                     </div>,\n",
       " <div class=\"fr li-btn\">\n",
       "                                         2024-08-29\n",
       "                                     </div>,\n",
       " <div class=\"fr li-btn\">\n",
       "                                         2024-08-29\n",
       "                                     </div>,\n",
       " <div class=\"fr li-btn\">\n",
       "                                         2024-08-15\n",
       "                                     </div>,\n",
       " <div class=\"fr li-btn\">\n",
       "                                         2024-08-15\n",
       "                                     </div>,\n",
       " <div class=\"fr li-btn\">\n",
       "                                         2024-08-14\n",
       "                                     </div>,\n",
       " <div class=\"fr li-btn\">\n",
       "                                         2024-08-14\n",
       "                                     </div>,\n",
       " <div class=\"fr li-btn\">\n",
       "                                         2024-08-08\n",
       "                                     </div>,\n",
       " <div class=\"fr li-btn\">\n",
       "                                         2024-08-08\n",
       "                                     </div>,\n",
       " <div class=\"fr li-btn\">\n",
       "                                         2024-08-08\n",
       "                                     </div>,\n",
       " <div class=\"fr li-btn\">\n",
       "                                         2024-08-08\n",
       "                                     </div>,\n",
       " <div class=\"fr li-btn\">\n",
       "                                         2024-08-08\n",
       "                                     </div>,\n",
       " <div class=\"fr li-btn\">\n",
       "                                         2024-08-06\n",
       "                                     </div>,\n",
       " <div class=\"fr li-btn\">\n",
       "                                         2024-08-06\n",
       "                                     </div>,\n",
       " <div class=\"fr li-btn\">\n",
       "                                         2024-08-01\n",
       "                                     </div>,\n",
       " <div class=\"fr li-btn\">\n",
       "                                         2024-08-01\n",
       "                                     </div>,\n",
       " <div class=\"fr li-btn\">\n",
       "                                         2024-08-01\n",
       "                                     </div>,\n",
       " <div class=\"fr li-btn\">\n",
       "                                         2024-08-01\n",
       "                                     </div>,\n",
       " <div class=\"fr li-btn\">\n",
       "                                         2024-07-29\n",
       "                                     </div>,\n",
       " <div class=\"fr li-btn\" ms-text=\"el.docreltime|date2('yyyy-MM-dd')\"></div>]"
      ]
     },
     "execution_count": 6,
     "metadata": {},
     "output_type": "execute_result"
    }
   ],
   "source": [
    "time_list"
   ]
  },
  {
   "cell_type": "code",
   "execution_count": 4,
   "metadata": {},
   "outputs": [],
   "source": [
    "with open(\"text.txt\", 'w') as f:\n",
    "    f.write(response.text)"
   ]
  },
  {
   "cell_type": "code",
   "execution_count": 23,
   "metadata": {},
   "outputs": [
    {
     "name": "stdout",
     "output_type": "stream",
     "text": [
      "href: http://kjt.jiangxi.gov.cn/art/2024/5/24/art_27029_4889571.html\n",
      "title: 江西省科学技术厅厅属事业单位2024年度公开招聘资格审查通过人员名单及面试公告\n",
      "date: 2024-05-24\n",
      "\n",
      "href: http://kjt.jiangxi.gov.cn/art/2024/5/22/art_27029_4887024.html\n",
      "title: 《科技广场》征稿启事\n",
      "date: 2024-05-22\n",
      "\n",
      "href: http://kjt.jiangxi.gov.cn/art/2024/5/22/art_27029_4886991.html\n",
      "title: 江西省科学技术厅关于2024年度中央引导地方科技发展资金拟分配到企业的项目公示\n",
      "date: 2024-05-22\n",
      "\n",
      "href: http://kjt.jiangxi.gov.cn/art/2024/5/22/art_27029_4886981.html\n",
      "title: 关于江西省2024年第二批高新技术企业更名的公告\n",
      "date: 2024-05-22\n",
      "\n",
      "href: http://kjt.jiangxi.gov.cn/art/2024/5/22/art_27029_4886467.html\n",
      "title: 2024年“三区”人才科技人员培训项目拟承担单位公示\n",
      "date: 2024-05-22\n",
      "\n",
      "href: http://kjt.jiangxi.gov.cn/art/2024/5/21/art_27029_4885043.html\n",
      "title: 江西省科学技术厅 江西省科学技术协会 江西省教育厅 关于公布2024年江西省科普讲解大赛获奖名单的通知\n",
      "date: 2024-05-21\n",
      "\n",
      "href: http://kjt.jiangxi.gov.cn/art/2024/5/20/art_27029_4884495.html\n",
      "title: 关于公布2023年度省新型研发机构绩效评价结果的通知\n",
      "date: 2024-05-20\n",
      "\n",
      "href: http://kjt.jiangxi.gov.cn/art/2024/5/20/art_27029_4884315.html\n",
      "title: 2024年中央引导地方科技发展专项资金乡村振兴拟支持项目公示\n",
      "date: 2024-05-20\n",
      "\n",
      "href: http://kjt.jiangxi.gov.cn/art/2024/5/17/art_27029_4882922.html\n",
      "title: 关于转发《科技部关于发布国家重点研发计划“政府间国际科技创新合作”等重点专项2024年度第二批项目申报指南的通知》的通知\n",
      "date: 2024-05-17\n",
      "\n",
      "href: http://kjt.jiangxi.gov.cn/art/2024/5/8/art_27029_4872098.html\n",
      "title: 关于2024年拟新增和调整部分科技特派员备案情况的公示\n",
      "date: 2024-05-08\n",
      "\n",
      "href: http://kjt.jiangxi.gov.cn/art/2024/5/8/art_27029_4872082.html\n",
      "title: 关于组织交通领域江西省重点实验室优化重组申报工作的通知\n",
      "date: 2024-05-08\n",
      "\n",
      "href: http://kjt.jiangxi.gov.cn/art/2024/5/8/art_27029_4872065.html\n",
      "title: 2024年第二批拟更名高新技术企业公示\n",
      "date: 2024-05-08\n",
      "\n",
      "href: http://kjt.jiangxi.gov.cn/art/2024/5/7/art_27029_4868599.html\n",
      "title: 关于拟对省级科技计划项目撤销的公示\n",
      "date: 2024-05-07\n",
      "\n",
      "href: http://kjt.jiangxi.gov.cn/art/2024/5/6/art_27029_4868455.html\n",
      "title: 2024年江西省科普讲解大赛拟获奖名单公示\n",
      "date: 2024-05-06\n",
      "\n",
      "href: http://kjt.jiangxi.gov.cn/art/2024/5/6/art_27029_4868212.html\n",
      "title: 关于开展2024年度江西省科创飞地摸底工作的通知\n",
      "date: 2024-05-06\n",
      "\n",
      "href: http://kjt.jiangxi.gov.cn/art/2024/5/1/art_27029_4866357.html\n",
      "title: 2023年度江西省科学技术奖拟推荐候选项目公告\n",
      "date: 2024-05-01\n",
      "\n",
      "href: http://kjt.jiangxi.gov.cn/art/2024/4/30/art_27029_4866182.html\n",
      "title: 关于2024年中央引导地方科技发展资金乡村振兴项目申报的通知\n",
      "date: 2024-04-30\n",
      "\n",
      "href: http://kjt.jiangxi.gov.cn/art/2024/4/30/art_27029_4865075.html\n",
      "title: 关于开展 2024年引进共建高端研发机构入库工作的通知\n",
      "date: 2024-04-30\n",
      "\n",
      "href: http://kjt.jiangxi.gov.cn/art/2024/4/29/art_27029_4863079.html\n",
      "title: 关于征集与英国新能源领域科技合作需求的通知\n",
      "date: 2024-04-29\n",
      "\n",
      "href: http://kjt.jiangxi.gov.cn/art/2024/4/28/art_27029_4862094.html\n",
      "title: 关于组织开展2024年江西省高新技术企业认定工作的通知\n",
      "date: 2024-04-28\n",
      "\n",
      "href: http://kjt.jiangxi.gov.cn/art/2024/4/19/art_27029_4853100.html\n",
      "title: 关于做好2023年度江西省研究开发机构和高等院校科技成果转化年度报告工作的通知\n",
      "date: 2024-04-19\n",
      "\n",
      "href: http://kjt.jiangxi.gov.cn/art/2024/4/19/art_27029_4853088.html\n",
      "title: 关于组建材料、医疗卫生、生物医药领域江西省重点实验室的通知\n",
      "date: 2024-04-19\n",
      "\n",
      "href: http://kjt.jiangxi.gov.cn/art/2024/4/18/art_27029_4852549.html\n",
      "title: 关于公布江西省2023年补充备案高新技术企业名单的通知\n",
      "date: 2024-04-18\n",
      "\n",
      "href: http://kjt.jiangxi.gov.cn/art/2024/4/7/art_27029_4841906.html\n",
      "title: 材料、医疗卫生、生物医药领域江西省重点实验室拟组建名单公示\n",
      "date: 2024-04-07\n",
      "\n",
      "href: http://kjt.jiangxi.gov.cn/art/2024/3/26/art_27029_4826064.html\n",
      "title: 关于更新江西省科技专家库专家信息的通知\n",
      "date: 2024-03-26\n",
      "\n",
      "href: http://kjt.jiangxi.gov.cn/art/2024/3/26/art_27029_4825191.html\n",
      "title: 江西省科技文献共享服务平台正式上线服务\n",
      "date: 2024-03-26\n",
      "\n",
      "href: http://kjt.jiangxi.gov.cn/art/2024/3/13/art_27029_4813466.html\n",
      "title: 关于印发《“科技副总”专项计划实施方案（试行）》的通知\n",
      "date: 2024-03-13\n",
      "\n",
      "href: http://kjt.jiangxi.gov.cn/art/2024/3/5/art_27029_4805776.html\n",
      "title: 关于江西省2024年第一批高新技术企业更名的公告\n",
      "date: 2024-03-05\n",
      "\n",
      "href: http://kjt.jiangxi.gov.cn/art/2024/3/1/art_27029_4803069.html\n",
      "title: 【邀请函】关于举办“温肺化纤颗粒”科技成果推介会的通知\n",
      "date: 2024-03-01\n",
      "\n",
      "href: http://kjt.jiangxi.gov.cn/art/2024/3/1/art_27029_4803062.html\n",
      "title: 关于组织水利、应急管理、能源、装备制造领域江西省重点实验室优化重组申报工作的通知\n",
      "date: 2024-03-01\n",
      "\n",
      "href: http://kjt.jiangxi.gov.cn/art/2024/2/29/art_27029_4800077.html\n",
      "title: 关于开展2024年民族地区科技服务需求征集和科技特派员选认工作的通知\n",
      "date: 2024-02-29\n",
      "\n",
      "href: http://kjt.jiangxi.gov.cn/art/2024/2/28/art_27029_4799598.html\n",
      "title: 关于部分省级科技计划项目终止的公示\n",
      "date: 2024-02-28\n",
      "\n",
      "href: http://kjt.jiangxi.gov.cn/art/2024/2/23/art_27029_4793539.html\n",
      "title: 关于拟对省级科技计划项目终止的公示\n",
      "date: 2024-02-23\n",
      "\n",
      "href: http://kjt.jiangxi.gov.cn/art/2024/2/7/art_27029_4784507.html\n",
      "title: 2024年第一批拟更名高新技术企业公示\n",
      "date: 2024-02-07\n",
      "\n",
      "href: http://kjt.jiangxi.gov.cn/art/2024/2/5/art_27029_4781443.html\n",
      "title: 关于征集2024中关村论坛展览（科博会）参展项目的通知\n",
      "date: 2024-02-05\n",
      "\n",
      "href: http://kjt.jiangxi.gov.cn/art/2024/2/2/art_27029_4779241.html\n",
      "title: 江西省科学技术厅 江西省科学技术协会 江西省教育厅 关于举办2024年江西省科普讲解大赛的通知\n",
      "date: 2024-02-02\n",
      "\n",
      "href: http://kjt.jiangxi.gov.cn/art/2024/1/22/art_27029_4765461.html\n",
      "title: 拟取消高新技术企业资格的企业更正信息公示\n",
      "date: 2024-01-22\n",
      "\n",
      "href: http://kjt.jiangxi.gov.cn/art/2024/1/17/art_27029_4761926.html\n",
      "title: 关于发布2023年度江西省社会科技奖备案目录的通知\n",
      "date: 2024-01-17\n",
      "\n",
      "href: http://kjt.jiangxi.gov.cn/art/2024/1/12/art_27029_4758690.html\n",
      "title: 江西省科学技术厅关于拟提名2023年度国家科学技术奖项目的公示\n",
      "date: 2024-01-12\n",
      "\n",
      "href: http://kjt.jiangxi.gov.cn/art/2024/1/10/art_27029_4756825.html\n",
      "title: 关于公布江西省2023年第四批高新技术企业名单的通知\n",
      "date: 2024-01-10\n",
      "\n",
      "href: http://kjt.jiangxi.gov.cn/art/2024/1/10/art_27029_4756802.html\n",
      "title: 关于公布江西省2023年第三批高新技术企业名单的通知\n",
      "date: 2024-01-10\n",
      "\n",
      "href: http://kjt.jiangxi.gov.cn/art/2024/1/10/art_27029_4756777.html\n",
      "title: 关于公布江西省2023年第二批高新技术企业名单的通知\n",
      "date: 2024-01-10\n",
      "\n",
      "href: http://kjt.jiangxi.gov.cn/art/2024/1/10/art_27029_4756557.html\n",
      "title: 关于公布第五届中国（江西）公共安全创新创业大赛获奖项目名单的通知\n",
      "date: 2024-01-10\n",
      "\n",
      "href: http://kjt.jiangxi.gov.cn/art/2024/1/9/art_27029_4755764.html\n",
      "title: 关于推广发布科研院所改革优秀案例的通知\n",
      "date: 2024-01-09\n",
      "\n",
      "href: http://kjt.jiangxi.gov.cn/art/2024/1/8/art_27029_4754709.html\n",
      "title: 关于公布第八届中国创新挑战赛（江西·赣州）和（江西·景德镇）获奖名单的通知\n",
      "date: 2024-01-08\n",
      "\n",
      "href: http://kjt.jiangxi.gov.cn/art/2024/1/4/art_27029_4753035.html\n",
      "title: 2023年度江西省科学技术奖形式审查合格项目公示\n",
      "date: 2024-01-04\n",
      "\n",
      "href: http://kjt.jiangxi.gov.cn/art/2024/1/4/art_27029_4752257.html\n",
      "title: 江西省科学技术厅关于专家拟提名2023年度国家科学技术奖项目的公示\n",
      "date: 2024-01-04\n",
      "\n",
      "href: http://kjt.jiangxi.gov.cn/art/2024/1/4/art_27029_4751835.html\n",
      "title: 江西省科学技术厅关于发布科技成果第三方评价机构目录（第五批）的通知\n",
      "date: 2024-01-04\n",
      "\n",
      "href: http://kjt.jiangxi.gov.cn/art/2024/1/2/art_27029_4750312.html\n",
      "title: 江西省科学技术厅关于拟提名2023年度国家科学技术奖项目的公示\n",
      "date: 2024-01-02\n",
      "\n",
      "href: http://kjt.jiangxi.gov.cn/art/2024/1/3/art_27029_4750302.html\n",
      "title: 2023年度江西省社会科技奖励拟备案名单公示\n",
      "date: 2024-01-03\n",
      "\n",
      "href: http://kjt.jiangxi.gov.cn/art/2024/1/2/art_27029_4748512.html\n",
      "title: 关于组建自然资源、生态环境领域省重点实验室的通知\n",
      "date: 2024-01-02\n",
      "\n",
      "href: http://kjt.jiangxi.gov.cn/art/2024/1/2/art_27029_4748467.html\n",
      "title: 关于部分省级科技计划项目验收不通过、终止的公示（已结束）\n",
      "date: 2024-01-02\n",
      "\n",
      "href: http://kjt.jiangxi.gov.cn/art/2023/12/29/art_27029_4746935.html\n",
      "title: 关于2023年度新型研发机构绩效评价结果的公示\n",
      "date: 2023-12-29\n",
      "\n",
      "href: http://kjt.jiangxi.gov.cn/art/2023/12/29/art_27029_4746922.html\n",
      "title: 关于公布第三届江西省科普微视频大赛结果的通知\n",
      "date: 2023-12-29\n",
      "\n",
      "href: http://kjt.jiangxi.gov.cn/art/2023/12/29/art_27029_4745959.html\n",
      "title: 关于公布2020年批复建设的江西省临床医学研究中心绩效评估结果的通知\n",
      "date: 2023-12-29\n",
      "\n",
      "href: http://kjt.jiangxi.gov.cn/art/2023/12/29/art_27029_4745683.html\n",
      "title: 【需求征集】对话院士专家，助力江西重点产业基础创新发展\n",
      "date: 2023-12-29\n",
      "\n",
      "href: http://kjt.jiangxi.gov.cn/art/2023/12/29/art_27029_4745248.html\n",
      "title: 电子信息、农林领域江西省重点实验室拟组建名单公示\n",
      "date: 2023-12-29\n",
      "\n",
      "href: http://kjt.jiangxi.gov.cn/art/2023/12/27/art_27029_4743780.html\n",
      "title: 关于向江西省医疗器械检测中心等单位换发实验动物使用许可证的通知\n",
      "date: 2023-12-27\n",
      "\n",
      "href: http://kjt.jiangxi.gov.cn/art/2023/12/22/art_27029_4740178.html\n",
      "title: 关于全国科普工作先进集体和先进工作者的公示\n",
      "date: 2023-12-22\n",
      "\n",
      "href: http://kjt.jiangxi.gov.cn/art/2023/12/21/art_27029_4737938.html\n",
      "title: 关于第三届江西省科普微视频大赛获奖作品名单的公示\n",
      "date: 2023-12-21\n",
      "\n"
     ]
    }
   ],
   "source": [
    "record_pattern = r\"<a href='(.*?)' title='(.*?)' target=\\\"_blank\\\">.*?</a><span class=\\\"bt-data-time\\\">\\s*(.*?)</span>\"\n",
    "record_pattern = r'<li><a href=\"(.*?)\" target=\"_blank\" title=\"(.*?)\" style=\"width:950px\">.*?(\\d{4}-\\d{2}-\\d{2})</span></li>'\n",
    "# record_pattern =r'href=\"(.*?)\" >(.*?)</a><span>\\[(\\d{4}-\\d{2}-\\d{2})\\]</span>'\n",
    "records = re.findall(record_pattern, response.text, re.DOTALL)\n",
    "# print(records)\n",
    "# # 打印结果\n",
    "for record in records:\n",
    "    href, title, date = record\n",
    "    print(\"href:\", href)\n",
    "    print(\"title:\", title)\n",
    "    print(\"date:\", date)\n",
    "    print()"
   ]
  },
  {
   "cell_type": "code",
   "execution_count": null,
   "metadata": {},
   "outputs": [],
   "source": []
  },
  {
   "cell_type": "code",
   "execution_count": 20,
   "metadata": {},
   "outputs": [],
   "source": [
    "# 定义正则表达式\n",
    "href_pattern = r'href=\\'(.*?)\\''\n",
    "title_pattern = r'class=\"title\" target=\"_blank\">\\'(.*?)\\'</a>'\n",
    "# date_pattern = r'align=\"center\">(.*?)</td>'\n",
    "date_pattern = r'color:#666666;\">(.*?)</td>'\n",
    "\n",
    "\n",
    "html_content = bs.text\n",
    "# 使用正则表达式进行匹配\n",
    "href_list = re.findall(href_pattern, html_content)\n",
    "title_list = re.findall(title_pattern, html_content)\n",
    "date_list = re.findall(date_pattern, html_content)\n",
    "\n",
    "# 打印结果\n",
    "for href, title, date in zip(href_list, title_list, date_list):\n",
    "    print(\"href:\", href)\n",
    "    print(\"title:\", title)\n",
    "    print(\"date:\", date)\n",
    "    print()"
   ]
  },
  {
   "cell_type": "code",
   "execution_count": null,
   "metadata": {},
   "outputs": [],
   "source": []
  },
  {
   "cell_type": "code",
   "execution_count": null,
   "metadata": {},
   "outputs": [],
   "source": []
  },
  {
   "cell_type": "code",
   "execution_count": 124,
   "metadata": {},
   "outputs": [
    {
     "data": {
      "text/plain": [
       "'/zwgk/show/f56fc2f605a9b0465b28d729335b93c6.html'"
      ]
     },
     "execution_count": 124,
     "metadata": {},
     "output_type": "execute_result"
    }
   ],
   "source": [
    "text_list[3]['href']"
   ]
  },
  {
   "cell_type": "code",
   "execution_count": 81,
   "metadata": {},
   "outputs": [
    {
     "data": {
      "text/plain": [
       "[<td align=\"center\">2024-04-02</td>,\n",
       " <td align=\"center\">2024-03-26</td>,\n",
       " <td align=\"center\">2024-03-26</td>,\n",
       " <td align=\"center\">2024-03-26</td>,\n",
       " <td align=\"center\">2024-03-05</td>,\n",
       " <td align=\"center\">2024-03-05</td>,\n",
       " <td align=\"center\">2024-02-08</td>,\n",
       " <td align=\"center\">2024-01-24</td>,\n",
       " <td align=\"center\">2024-01-23</td>,\n",
       " <td align=\"center\">2024-01-04</td>]"
      ]
     },
     "execution_count": 81,
     "metadata": {},
     "output_type": "execute_result"
    }
   ],
   "source": [
    "[time_list[i + 3] for i in range(0, len(time_list), 4)]"
   ]
  },
  {
   "cell_type": "code",
   "execution_count": 125,
   "metadata": {},
   "outputs": [
    {
     "data": {
      "text/plain": [
       "[<span>2024-04-17</span>,\n",
       " <span>2024-04-10</span>,\n",
       " <span>2024-04-09</span>,\n",
       " <span>2024-02-19</span>,\n",
       " <span>2024-02-05</span>,\n",
       " <span>2024-02-01</span>,\n",
       " <span>2024-01-31</span>,\n",
       " <span>2024-01-31</span>,\n",
       " <span>2024-01-30</span>,\n",
       " <span>2024-01-19</span>,\n",
       " <span>2024-01-12</span>,\n",
       " <span>2024-01-05</span>,\n",
       " <span>2024-01-05</span>,\n",
       " <span>2024-01-05</span>,\n",
       " <span>2024-01-05</span>,\n",
       " <span>2024-01-05</span>,\n",
       " <span>2024-01-05</span>,\n",
       " <span>2024-01-04</span>,\n",
       " <span>2023-12-22</span>,\n",
       " <span>2023-12-22</span>]"
      ]
     },
     "execution_count": 125,
     "metadata": {},
     "output_type": "execute_result"
    }
   ],
   "source": [
    "time_list"
   ]
  },
  {
   "cell_type": "code",
   "execution_count": 126,
   "metadata": {},
   "outputs": [
    {
     "data": {
      "text/plain": [
       "'2024-02-19'"
      ]
     },
     "execution_count": 126,
     "metadata": {},
     "output_type": "execute_result"
    }
   ],
   "source": [
    "time_list[3].get_text(strip=True)"
   ]
  },
  {
   "cell_type": "code",
   "execution_count": 127,
   "metadata": {},
   "outputs": [
    {
     "ename": "TypeError",
     "evalue": "'NoneType' object is not subscriptable",
     "output_type": "error",
     "traceback": [
      "\u001b[0;31m---------------------------------------------------------------------------\u001b[0m",
      "\u001b[0;31mTypeError\u001b[0m                                 Traceback (most recent call last)",
      "Cell \u001b[0;32mIn[127], line 1\u001b[0m\n\u001b[0;32m----> 1\u001b[0m \u001b[43mbs\u001b[49m\u001b[38;5;241;43m.\u001b[39;49m\u001b[43mfind\u001b[49m\u001b[43m(\u001b[49m\u001b[38;5;124;43m'\u001b[39;49m\u001b[38;5;124;43ma\u001b[39;49m\u001b[38;5;124;43m'\u001b[39;49m\u001b[43m,\u001b[49m\u001b[43m \u001b[49m\u001b[43m{\u001b[49m\u001b[38;5;124;43m'\u001b[39;49m\u001b[38;5;124;43mclass\u001b[39;49m\u001b[38;5;124;43m'\u001b[39;49m\u001b[43m:\u001b[49m\u001b[43m \u001b[49m\u001b[38;5;124;43m'\u001b[39;49m\u001b[38;5;124;43mnext\u001b[39;49m\u001b[38;5;124;43m'\u001b[39;49m\u001b[43m}\u001b[49m\u001b[43m)\u001b[49m\u001b[43m[\u001b[49m\u001b[38;5;124;43m'\u001b[39;49m\u001b[38;5;124;43mhref\u001b[39;49m\u001b[38;5;124;43m'\u001b[39;49m\u001b[43m]\u001b[49m\n",
      "\u001b[0;31mTypeError\u001b[0m: 'NoneType' object is not subscriptable"
     ]
    }
   ],
   "source": [
    "bs.find('a', {'class': 'next'})['href']"
   ]
  },
  {
   "cell_type": "code",
   "execution_count": 27,
   "metadata": {},
   "outputs": [
    {
     "data": {
      "text/plain": [
       "'https://im.dg.gov.cn/dtxw/tzgg/content/post_4183329.html'"
      ]
     },
     "execution_count": 27,
     "metadata": {},
     "output_type": "execute_result"
    }
   ],
   "source": [
    "time_list[0].find('a').get('href')"
   ]
  },
  {
   "cell_type": "code",
   "execution_count": 28,
   "metadata": {},
   "outputs": [
    {
     "data": {
      "text/plain": [
       "<a class=\"next\" href=\"https://im.dg.gov.cn/dtxw/tzgg/index_2.html\" id=\"next\">\n",
       "                                    下一页\n",
       "                                </a>"
      ]
     },
     "execution_count": 28,
     "metadata": {},
     "output_type": "execute_result"
    }
   ],
   "source": [
    "bs.find('a', {'class': 'next'})"
   ]
  },
  {
   "cell_type": "code",
   "execution_count": 115,
   "metadata": {},
   "outputs": [
    {
     "name": "stderr",
     "output_type": "stream",
     "text": [
      "/home/zouyou/miniconda3/envs/spider/lib/python3.10/site-packages/urllib3/connectionpool.py:1103: InsecureRequestWarning: Unverified HTTPS request is being made to host 'www.changzhou.gov.cn'. Adding certificate verification is strongly advised. See: https://urllib3.readthedocs.io/en/latest/advanced-usage.html#tls-warnings\n",
      "  warnings.warn(\n"
     ]
    },
    {
     "data": {
      "text/plain": [
       "<!DOCTYPE html PUBLIC \"-//W3C//DTD XHTML 1.0 Transitional//EN\" \"http://www.w3.org/TR/xhtml1/DTD/xhtml1-transitional.dtd\">\n",
       "<html xmlns=\"http://www.w3.org/1999/xhtml\"><head>\n",
       "<meta content=\"text/html; charset=utf-8\" http-equiv=\"Content-Type\"/>\n",
       "<meta content=\"IE=edge,chrome=1\" http-equiv=\"X-UA-Compatible\"/>\n",
       "<meta content=\"常州市人民政府\" name=\"SiteName\"/>\n",
       "<meta content=\"www.changzhou.gov.cn\" name=\"SiteDomain\"/>\n",
       "<meta content=\"3204000002\" name=\"SiteIDCode\"/>\n",
       "<meta content=\"常州市人民政府,常州市,常州,市政府,常州新闻,政务活动,市长之窗,重点领域,政府文件,政策解读,政务公开,新闻发布,在线访谈,网上办事,传媒大厦,奥体中心,恐龙园,天宁寺,淹城,嬉戏谷\" name=\"Description\"/>\n",
       "<meta content=\"常州市人民政府,常州市,常州,市政府,常州新闻,政务活动,市长之窗,重点领域,政府文件,政策解读,政务公开,新闻发布,在线访谈,网上办事,传媒大厦,奥体中心,恐龙园,天宁寺,淹城,嬉戏谷\" name=\"keywords\"/>\n",
       "<meta content=\"常州市人民政府,常州市,常州,市政府,常州新闻,政务活动,市长之窗,重点领域,政府文件,政策解读,政务公开,新闻发布,在线访谈,网上办事,传媒大厦,奥体中心,恐龙园,天宁寺,淹城,嬉戏谷\" name=\"Generator\"/>\n",
       "<meta content=\"关于转发《〈2024年度省基础研究专项资金（自然科学基金）项目指南〉及组织申报项目的通知》的通知\" name=\"ArticleTitle\"/>\n",
       "<meta content=\"2024-03-11 14:23:36\" name=\"PubDate\"/>\n",
       "<meta content=\"市科技局\" name=\"ContentSource\"/>\n",
       "<meta content=\"https://www.changzhou.gov.cn/gi_news/624171013821673\" name=\"Url\"/>\n",
       "<title>关于转发《〈2024年度省基础研究专项资金（自然科学基金）项目指南〉及组织申报项目的通知》的通知</title>\n",
       "<link href=\"/images2024/css/style.css\" rel=\"stylesheet\" type=\"text/css\"/>\n",
       "<link href=\"/js/plyr/plyr.css\" rel=\"stylesheet\" type=\"text/css\"/>\n",
       "<script language=\"javascript\" src=\"/images2017/jquery.min.js\" type=\"text/javascript\"></script>\n",
       "<style type=\"text/css\">\n",
       "table{border-collapse: collapse;}\n",
       ".table_rights{text-align: right;width:28%; vertical-align: top;border-left:1px solid #ccc;padding-left:12px;}\n",
       ".td_title{text-align: left;font-size: 16px; color:#0068b7;padding-bottom:3px;padding-top:8px; font-weight:bold;}\n",
       ".td_news{line-height: 150%; text-align: left;padding-top:10px;}\n",
       "\n",
       ".govinfo_frame td{ font-size:14px;}\n",
       ".govinfo_title{color:#0C64B5; font-weight:bold;}\n",
       "\n",
       "/*关联信息*/\n",
       ".relevant_frame{width:1000px; padding:10px 20px; background-color:#FFFEF4; border:1px solid #E2CBA6; margin:0 auto 20px auto;}\n",
       ".relevant_class{font-size:18px; padding:2px 0 2px 10px; font-weight:bold; color:#CA2403;}\n",
       ".relevant_title{font-size:16px; height:28px; line-height:28px;}\n",
       "</style>\n",
       "<!-- Author www.czfx.cn-->\n",
       "<style type=\"text/css\">\n",
       ".yx_style_{display:block !important;overflow:hidden !important;width:0 !important;height:0 !important;}\n",
       "</style>\n",
       "<script language=\"javascript\" src=\"/js/common.js\"></script>\n",
       "</head>\n",
       "\n",
       "<body style=\"background-color:#ebebeb;\">\n",
       "<div class=\"nav_banner\">\n",
       "    <div class=\"top_main\">\n",
       "        <div class=\"top_main_l\">\n",
       "            <ul>\n",
       "                <li id=\"app\">\n",
       "                    <a href=\"/ns_class/MyChangZhou\">我的常州  </a>\n",
       "                    <div class=\"popover bottom\" id=\"app_popover\" style=\"\">\n",
       "                        <div class=\"arrow\" style=\"left: 50%;\"></div>\n",
       "                        <div class=\"popover-content\"><img src=\"/images2024/images/right-nav-erweima-wdcz.jpg\" style=\"width: 100px;height: 100px;\"/></div>\n",
       "                    </div>\n",
       "                </li>\n",
       "                <li>\n",
       "                    <a class=\"czheader-qita\" confirm=\"false\" href=\"/page_znwdpt\" style=\"background-position-x:0;\" target=\"_blank\" title=\"智能问答\">  智能问答  </a>\n",
       "                </li>\n",
       "                <li id=\"yd\">\n",
       "                    <a href=\"/ns_class/wap\">  移动服务  </a>\n",
       "                    <div class=\"popover bottom\" id=\"app_popover1\" style=\"\">\n",
       "                        <div class=\"arrow\" style=\"left: 50%;\"></div>\n",
       "                        <div class=\"popover-content\"><img src=\"/images2024/images/right-nav-erweima-wap.jpg\" style=\"width: 100px;height: 100px;\"/></div>\n",
       "                    </div>\n",
       "                </li>\n",
       "                <li>\n",
       "                    <a href=\"http://mail.changzhou.gov.cn/\">  政务邮箱  </a>\n",
       "                </li>\n",
       "                <li>\n",
       "                    <a href=\"https://ucenter.changzhou.gov.cn/people/login/index\">  个人中心</a>\n",
       "                </li>\n",
       "            </ul>\n",
       "        </div>\n",
       "        <div class=\"top_main_r\">\n",
       "            <ul>\n",
       "                <li>\n",
       "                    <a href=\"javascript:StranBody()\" id=\"StranLink\" name=\"StranLink\" style=\"cursor:point;font-size:15px;\" title=\"點擊以繁體中文方式瀏覽\">  繁  |</a>\n",
       "                </li>\n",
       "                <li>\n",
       "                    <span id=\"czheader-lan-sel\" style=\"float: right;font-size: 15px;color:#ffffff;\">  English  |\n",
       "                        <div id=\"czheader-lan-list\">\n",
       "                              <ul>\n",
       "                                <li><a href=\"/ns_class/english\" target=\"_blank\">English</a></li>\n",
       "                                <li><a href=\"/ns_class/jap\" target=\"_blank\">日本語</a></li>\n",
       "                                <li><a href=\"/ns_class/kor\" target=\"_blank\"><img src=\"/images2019/hanguoyu.png\"/></a></li>\n",
       "                              </ul>\n",
       "                        </div>\n",
       "                    </span>\n",
       "                </li>\n",
       "                <li>\n",
       "                    <a href=\"/statics/wza/\" target=\"_blank\" title=\"无障碍浏览\">  无障碍浏览  </a>\n",
       "                </li>\n",
       "                <li id=\"ucenter_span\">\n",
       "                    <a href=\"https://ucenter.changzhou.gov.cn/people/login/index\" target=\"_blank\">登录</a>\n",
       "                </li>\n",
       "                <script language=\"JavaScript\" src=\"/images2017/jfzh.js\" type=\"text/javascript\"></script>\n",
       "            </ul>\n",
       "        </div>\n",
       "        <div class=\"clearfix\"></div>\n",
       "    </div>\n",
       "    <div class=\"guohui_bg\" style=\"\">\n",
       "        <div class=\"guohui_left\">\n",
       "            <img src=\"/images2024/images/logo.png\"/>\n",
       "        </div>\n",
       "        <div class=\"guohui_right\">\n",
       "            <div class=\"searchform\">\n",
       "                <form action=\"/search/site.php\" id=\"searchform\" method=\"get\" name=\"searchform\" target=\"_blank\">\n",
       "                    <div class=\"searchbox\">\n",
       "                        <input class=\"czheader-select_input\" id=\"keyword\" name=\"keyword\" onblur=\"if(this.value==''){this.value='-请输入关键词-';this.style.color='#7B7E85';}else{this.style.color='#555'}\" onfocus=\"if(this.value=='-请输入关键词-'){this.value='';}this.style.color='#555'\" type=\"text\" value=\"-请输入关键词-\"/>\n",
       "                        <img src=\"/images2024/index/images/search1.png\"/>\n",
       "                        <input class=\"czheader-select_sousuo\" id=\"button\" name=\"button\" style=\"cursor:pointer;\" type=\"submit\" value=\"\"/>\n",
       "                    </div>\n",
       "                </form>\n",
       "            </div>\n",
       "        </div>\n",
       "        <div class=\"clearfix\"></div>\n",
       "    </div>\n",
       "</div>\n",
       "<div id=\"nav\">\n",
       "    <ul>\n",
       "        <li><a href=\"/\">首页</a></li>\n",
       "        <li class=\"\"><a href=\"/ns_class/zjcz\">走进常州</a></li>\n",
       "        <li><a href=\"/ns_class/xwzx\">新闻中心</a></li>\n",
       "        <li><a href=\"/ns_class/zfxxgk\">政务公开</a></li>\n",
       "        <li><a href=\"/ns_class/fwdt\">办事服务</a></li>\n",
       "        <li><a href=\"/ns_class/myhd\">政民互动</a></li>\n",
       "        <li><a href=\"/ns_class/xwzx_07\">专题专栏</a></li>\n",
       "        <li style=\"border-right: 1px solid #ffffff;border-color:rgba(255, 255, 255, 0.2);\"><a href=\"/ns_class/sjfb\">数据发布</a></li>\n",
       "        <div class=\"clearfix\"></div>\n",
       "    </ul>\n",
       "</div>\n",
       "<script language=\"JavaScript\" src=\"/images2017/ucenter.js\" type=\"text/javascript\"></script>\n",
       "<div class=\"container8\" id=\"czfxtext\" style=\"margin-top:25px;\">\n",
       "<table align=\"center\" border=\"0\" cellpadding=\"0\" cellspacing=\"0\" width=\"94%\">\n",
       "  <tbody><tr>\n",
       "    <td class=\"wzdh2019\"><div class=\"wzdh-head2019 text1\">您当前的位置：</div>\n",
       "      <div class=\"wzdh-text2019 text1\"><a href=\"/\">首页</a> &gt;&gt; <a href=\"/ns_class/zfxxgk\">政务公开</a> &gt;&gt; 正文</div>\n",
       "      <div class=\"text1\" style=\"float:right; line-height:40px;\">浏览次数：<strong><span id=\"hits\"></span></strong></div></td>\n",
       "  </tr>\n",
       "</tbody></table>\n",
       "<table align=\"center\" border=\"0\" cellpadding=\"0\" cellspacing=\"0\" width=\"1240\">\n",
       "  <tbody><tr>\n",
       "    <td bgcolor=\"#FFFFFF\" height=\"400\" style=\"background-color:#FFF;\" valign=\"top\">\n",
       "            <table border=\"0\" cellpadding=\"0\" cellspacing=\"0\" width=\"100\">\n",
       "        <tbody><tr>\n",
       "          <td height=\"30\"></td>\n",
       "        </tr>\n",
       "      </tbody></table>\n",
       "      <table align=\"center\" border=\"0\" cellpadding=\"15\" cellspacing=\"0\" style=\"border:8px solid #F3F3F3; background-color:#DDD;\" width=\"94%\">\n",
       "        <tbody><tr>\n",
       "          <td bgcolor=\"#FFFFFF\"><table align=\"center\" border=\"0\" cellpadding=\"0\" cellspacing=\"0\" class=\"govinfo_frame\" width=\"100%\">\n",
       "            <tbody><tr>\n",
       "              <td colspan=\"3\" height=\"30\"><span class=\"govinfo_title\">信息名称：</span>关于转发《〈2024年度省基础研究专项资金（自然科学基金）项目指南〉及组织申报项目的通知》的通知</td>\n",
       "              </tr>\n",
       "            <tr>\n",
       "              <td colspan=\"3\" height=\"30\"><span class=\"govinfo_title\">索 引 号：</span>014109496/2024-00021</td>\n",
       "              </tr>\n",
       "            <tr>\n",
       "              <td height=\"30\" width=\"335\"><span class=\"govinfo_title\">法定主动公开分类：</span>公告公示</td>\n",
       "              <td height=\"30\" width=\"335\"><span class=\"govinfo_title\">公开方式：</span>主动公开</td>\n",
       "              <td colspan=\"2\"></td>\n",
       "              </tr>\n",
       "            <tr>\n",
       "              <td height=\"30\" width=\"335\"><span class=\"govinfo_title\">文件编号：</span></td>\n",
       "              <td colspan=\"2\"><span class=\"govinfo_title\">发布机构：</span>市科技局</td>\n",
       "              </tr>\n",
       "            <tr>\n",
       "              <td height=\"30\" width=\"335\"><span class=\"govinfo_title\">生成日期：</span>2024-03-11</td>\n",
       "              <td width=\"226\"><span class=\"govinfo_title\">公开日期：</span>2024-03-11</td>\n",
       "              <td width=\"298\"><span class=\"govinfo_title\">废止日期：</span>2024-04-02</td>\n",
       "              </tr>\n",
       "            <tr>\n",
       "              <td colspan=\"3\" height=\"30\"><span class=\"govinfo_title\">内容概述：</span><span style=\"line-height:200%;\">关于转发《〈2024年度省基础研究专项资金（自然科学基金）项目指南〉及组织申报项目的通知》的通知</span></td>\n",
       "              </tr>\n",
       "            </tbody></table></td>\n",
       "          </tr>\n",
       "        </tbody></table>\n",
       "      <div style=\"height:20px;\"></div>\n",
       "                \n",
       "      \n",
       "      <div style=\"height:20px;\"></div>\n",
       "      <table align=\"center\" border=\"0\" cellpadding=\"0\" cellspacing=\"0\" id=\"govhtbt_content\" style=\"border-bottom:3px solid #F00; margin-bottom:20px; display:none;\" width=\"88%\">\n",
       "        <tbody><tr>\n",
       "          <td align=\"center\" id=\"govhtbt\" style=\"font-size:50px; color:#F03; FONT-FAMILY: 宋体; font-weight:bold; line-height:55px;\"></td>\n",
       "        </tr>\n",
       "        <tr>\n",
       "          <td align=\"center\" height=\"50\" style=\"font-size:16px;\"></td>\n",
       "        </tr>\n",
       "      </tbody></table>\n",
       "      <script language=\"javascript\">\n",
       "          // 如果有红头标题，那么显示。\n",
       "          if (document.getElementById('govhtbt').innerHTML!=\"\"){\n",
       "              document.getElementById('govhtbt_content').style.display='';\n",
       "          }\n",
       "      </script>\n",
       "      <div id=\"czfxfontzoom\" style=\"min-height: 20px;width: 90%;margin:0px auto;\">\n",
       "\n",
       "      </div>\n",
       "      <!--\n",
       "      阿里语音播报\n",
       "      <script type=\"text/javascript\">\n",
       "        $(function () {\n",
       "          $.getScript('/js/plyr/plyr.js', function () {\n",
       "            $.ajax({\n",
       "              url: \"/api/get_voice_file.php\",\n",
       "              type: 'get',\n",
       "              data: {\n",
       "                type: 'gi',\n",
       "                fid: \"624171013821673\"\n",
       "              },\n",
       "            }).then(function (url) {\n",
       "              if (!url || !plyr) return;\n",
       "              var audioBox = $('<div class=\"audio-box\"><p class=\"audio-text\">无障碍语音播报</p><audio id=\"audio\" crossorigin playsinline><source src=\"' + url + '\" type=\"audio/mp3\"></audio></div>')\n",
       "              $('#czfxfontzoom').prepend(audioBox);\n",
       "              plyr.setup('#audio', {\n",
       "                controls: ['play-large', 'play', 'progress', 'current-time', 'captions'],\n",
       "              });\n",
       "            })\n",
       "          })\n",
       "        })\n",
       "      </script>\n",
       "      -->\n",
       "      <table align=\"center\" border=\"0\" cellpadding=\"0\" cellspacing=\"0\" width=\"90%\">\n",
       "        <tbody><tr>\n",
       "          <td style=\"text-align:center; font-size:20px; font-weight:bold; padding-bottom:30px;\" valign=\"top\">关于转发《〈2024年度省基础研究专项资金（自然科学基金）项目指南〉及组织申报项目的通知》的通知</td>\n",
       "          </tr>\n",
       "        <tr>\n",
       "          <td class=\"GovInfoContent\" height=\"400\" valign=\"top\">\n",
       "            <p>\n",
       "\t各辖市（区）科技局、各有关单位：\n",
       "</p>\n",
       "<p style=\"text-indent:2em;\">\n",
       "\t江苏省科学技术厅、江苏省财政厅印发《〈2024年度省基础研究专项资金（自然科学基金）项目指南〉及组织申报项目的通知》（苏科资发<span style=\"color:#000000;\">〔2024〕</span><span style=\"color:red;\"></span><span style=\"color:#000000;\">35号</span>号），现转发给你们，请按省科技厅的通知要求抓紧做好项目的组织申报工作（相关文件请至“项目申报材料在省科技计划管理信息平台”网站下载）。为更好地做好2024年度我市申报省基础研究专项资金（自然科学基金）项目的审核推荐工作，请各单位于2024年4月1日17:00前上传相关申报材料。<span style=\"background-color:;\"></span>\n",
       "</p>\n",
       "<p style=\"text-indent:2em;\">\n",
       "\t联系人：汤夕勤，联系电话：85681539\n",
       "</p>\n",
       "<p style=\"text-indent:2em;\">\n",
       "\t附件：1.<a href=\"/upfiles/admininfo/20240311/20240311142243_70826.pdf\" target=\"_blank\">江苏省科学技术厅、江苏省财政厅关于印发《2024年度省基础研究专项资金（自然科学基金）项目指南》及组织申报项目的通知</a> \n",
       "</p>\n",
       "<p style=\"text-indent:2em;\">\n",
       "\t          2.<a href=\"/upfiles/admininfo/20240311/20240311142258_84914.zip\" target=\"_blank\">江苏省科技计划项目申报书</a> \n",
       "</p>\n",
       "<p align=\"right\" style=\"text-indent:2em;\">\n",
       "\t常州市科学技术局\n",
       "</p>\n",
       "<p align=\"right\" style=\"text-indent:2em;\">\n",
       "\t2024年3月11日\n",
       "</p>            <div style=\"background:url(/images/shortcur_down.gif) no-repeat 0 50%; padding:10px 10px 10px 25px; font-weight:bold; margin-top:20px; border-top:1px solid #EEE;\"><a href=\"/downxxgk.php?fid=624171013821673\" style=\"color:#00C;\" title=\"点击下载\">下载本信息公开文件</a></div>\n",
       "            <div style=\"text-align: center;margin-top: 30px;\"><p style=\"color: gray;text-align: center;\">扫一扫在手机打开当前页</p><img src=\"/tools/generate_qr.php?data=http://www.changzhou.gov.cn/gi_news/624171013821673\" style=\"width: 160px;height: 160px;\"/></div>\n",
       "            </td>\n",
       "          </tr>\n",
       "                <tr>\n",
       "          <td class=\"GovInfoContent\" style=\"line-height: 25px;\" valign=\"top\">\n",
       "            <hr style=\"margin-top:40px;margin-bottom:8px;\"/>\n",
       "            <span style=\"font-weight:bold;font-size:16px;\">相关阅读：</span><br/>\n",
       "            <ul style=\"padding-left: 15px;\">\n",
       "                            </ul>\n",
       "            </td>\n",
       "          </tr>\n",
       "                </tbody></table>\n",
       "      <div style=\"height:50px;\"></div>\n",
       "      </td>\n",
       "  </tr>\n",
       "</tbody></table>\n",
       "</div>\n",
       "<div style=\"height:20px;\"></div>\n",
       "<div class=\"footer\">\n",
       "        <div class=\"footer_con m\">\n",
       "            <p><a href=\"/ns_class/qt_11\" target=\"_blank\">联系我们</a>　|　<a href=\"/ns_class/qt_12\" target=\"_blank\">网站地图</a>　|　<a href=\"/stat/\" target=\"_blank\">访问统计</a>　|　<a href=\"/gova/wzjc/\" target=\"_blank\">网站纠错</a><br/>\n",
       "                主办：常州市人民政府办公室　承办：常州市大数据管理局　版权所有：常州市人民政府　电子邮箱：czwgzx@changzhou.gov.cn<br/>\n",
       "                地址：常州市龙城大道1280号 (市行政中心)3号楼B座116室　技术支持电话：0519-85685023<br/>\n",
       "                <a href=\"http://www.beian.gov.cn/portal/registerSystemInfo?recordcode=32041102000483\" target=\"_blank\">苏公网安备32041102000483号</a>　网站标识码：3204000002　<a href=\"https://beian.miit.gov.cn/\" target=\"_blank\">苏ICP备05003616号</a>   <span>网站支持IPV6</span>\n",
       "            </p>\n",
       "            <div class=\"wzbs\">\n",
       "                <a href=\"http://bszs.conac.cn/sitename?method=show&amp;id=0808DD6127E40ADBE053012819AC9965\" onclick=\"return confirm('是否离开本站，前往外部站点？');\" target=\"_blank\"><img alt=\"\" src=\"/images2024/index/images/bottom_dzjg.png\"/></a>\n",
       "                <a href=\"#\" onclick='window.open(\"/api/jiucuo.php?site_code=3204000002&amp;url=\"+window.location.href);return false;' target=\"_blank\"><img alt=\"\" src=\"/images2024/index/images/bottom_jiucuo.png\"/></a>\n",
       "            </div>\n",
       "        </div>\n",
       "    </div>\n",
       "<link href=\"/images2024/index/css/right_banner.css\" rel=\"stylesheet\" type=\"text/css\"/>\n",
       "<script src=\"/images2024/js/right_banner.js\" type=\"text/javascript\"></script>\n",
       "\n",
       "\n",
       "<script language=\"javascript\" type=\"text/javascript\">\n",
       "\t$(\"html,body\").animate({scrollTop:$(\"#czfxtext\").offset().top},500)\t/*页面移动到指定锚点位置*/\n",
       "</script>\n",
       "<script language=\"JavaScript\" src=\"/plugin/FlowStat/stat.js\"></script><script type=\"text/javascript\">console.log(\"templates_2024/gi/详细内容_带索引号_new2019.html\");</script><!--2024-03-13 16:19:54--><!--memcached--></body></html>"
      ]
     },
     "execution_count": 115,
     "metadata": {},
     "output_type": "execute_result"
    }
   ],
   "source": [
    "u = \"https://www.changzhou.gov.cn/gi_news/624171013821673\"\n",
    "\n",
    "\n",
    "# 访问链接\n",
    "bs, response = get_bs(u)\n",
    "\n",
    "bs"
   ]
  },
  {
   "cell_type": "code",
   "execution_count": 116,
   "metadata": {},
   "outputs": [
    {
     "data": {
      "text/plain": [
       "'废止日期：2024-04-02'"
      ]
     },
     "execution_count": 116,
     "metadata": {},
     "output_type": "execute_result"
    }
   ],
   "source": [
    "a = bs.find(width=\"298\").get_text()\n",
    "a"
   ]
  },
  {
   "cell_type": "code",
   "execution_count": 117,
   "metadata": {},
   "outputs": [
    {
     "data": {
      "text/plain": [
       "True"
      ]
     },
     "execution_count": 117,
     "metadata": {},
     "output_type": "execute_result"
    }
   ],
   "source": [
    "\"废止日期\" in bs.find(width=\"298\").get_text() and \"有效\" not in bs.find(width=\"298\").get_text()"
   ]
  },
  {
   "cell_type": "code",
   "execution_count": 118,
   "metadata": {},
   "outputs": [
    {
     "data": {
      "text/plain": [
       "'2024-04-02'"
      ]
     },
     "execution_count": 118,
     "metadata": {},
     "output_type": "execute_result"
    }
   ],
   "source": [
    "a.split(\"废止日期：\")[-1] "
   ]
  },
  {
   "cell_type": "code",
   "execution_count": 119,
   "metadata": {},
   "outputs": [
    {
     "data": {
      "text/plain": [
       "True"
      ]
     },
     "execution_count": 119,
     "metadata": {},
     "output_type": "execute_result"
    }
   ],
   "source": [
    "a.split(\"废止日期：\")[-1] < now"
   ]
  },
  {
   "cell_type": "code",
   "execution_count": 65,
   "metadata": {},
   "outputs": [
    {
     "data": {
      "text/plain": [
       "<td width=\"298\"><span class=\"govinfo_title\">废止日期：<span style=\"color: #333;font-weight: normal;\">有效</span></span></td>"
      ]
     },
     "execution_count": 65,
     "metadata": {},
     "output_type": "execute_result"
    }
   ],
   "source": [
    "bs.find(width=\"298\")"
   ]
  },
  {
   "cell_type": "code",
   "execution_count": null,
   "metadata": {},
   "outputs": [],
   "source": []
  },
  {
   "cell_type": "code",
   "execution_count": 75,
   "metadata": {},
   "outputs": [],
   "source": [
    "import json\n",
    "\n",
    "def get_response(url, pageNum=3, startrecord=46, endrecord=90):\n",
    "    headers = {\n",
    "        \"Accept\": \"application/xml, text/xml, */*; q=0.01\",\n",
    "        \"Accept-Encoding\": \"gzip, deflate, br, zstd\",\n",
    "        \"Accept-Language\": \"zh-CN,zh;q=0.9,en;q=0.8,en-GB;q=0.7,en-US;q=0.6\",\n",
    "        \"Connection\": \"keep-alive\",\n",
    "        \"Content-Length\": \"210\",\n",
    "        \"Content-Type\": \"application/x-www-form-urlencoded; charset=UTF-8\",\n",
    "        \"Cookie\": \"JSESSIONID=C1446376FEAB295F946A75DCCFC3DF89; arialoadData=false; zh_choose_undefined=s; ZJZWFWSESSIONID=913cb8f6-7750-4320-ae36-6b9a57acfd77; SERVERID=b2ba659a0bf802d127f2ffc5234eeeba|1714963558|1714961397\",\n",
    "        \"Host\": \"fzggw.zj.gov.cn\",\n",
    "        \"Origin\": \"https://fzggw.zj.gov.cn\",\n",
    "        \"Referer\": \"https://fzggw.zj.gov.cn/col/col1599544/index.html?uid=4892867&pageNum=3&startrecord=46&endrecord=90\",\n",
    "        \"Sec-Fetch-Dest\": \"empty\",\n",
    "        \"Sec-Fetch-Mode\": \"cors\",\n",
    "        \"Sec-Fetch-Site\": \"same-origin\",\n",
    "        \"User-Agent\": 'Mozilla/5.0 (Windows NT 10.0; Win64; x64) AppleWebKit/537.36 (KHTML, like Gecko) Chrome/124.0.0.0 Safari/537.36 Edg/124.0.0.0',\n",
    "        \"X-Requested-With\": \"XMLHttpRequest\",\n",
    "        \"sec-ch-ua\": '\"Chromium\";v=\"124\", \"Microsoft Edge\";v=\"124\", \"Not-A.Brand\";v=\"99\"',\n",
    "        \"sec-ch-ua-mobile\": \"?0\",\n",
    "        \"sec-ch-ua-platform\": \"Windows\"\n",
    "        }\n",
    "\n",
    "    post_data = {\"col\": \"1\", \"appid\": \"1\", \"webid\": \"3185\", \"path\": \"/\", \"columnid\": \"1599544\", \"sourceContentType\": \"1\", \"unitid\": \"4892867\", \"webname\": \"浙江省发展和改革委员会\", \"permissiontype\": \"0\"}\n",
    "    response = requests.post(url, headers=headers, data=json.dumps(post_data))\n",
    "    response.encoding = 'utf-8'\n",
    "    \n",
    "    return response"
   ]
  },
  {
   "cell_type": "code",
   "execution_count": 76,
   "metadata": {},
   "outputs": [],
   "source": [
    "url_index = f\"https://fzggw.zj.gov.cn/module/jpage/dataproxy.jsp?startrecord=46&endrecord=90&perpage=15\"\n",
    "response = get_response(url_index)\n",
    "if response.status_code != 200:\n",
    "    raise ConnectionError(\"请求失败……\") \n",
    "# 解析json\n",
    "# json_data = json.loads(response.text)"
   ]
  },
  {
   "cell_type": "code",
   "execution_count": 77,
   "metadata": {},
   "outputs": [
    {
     "data": {
      "text/plain": [
       "'\\r\\n\\r\\n\\r\\n\\r\\n\\r\\n\\r\\n\\r\\n\\r\\n\\r\\n\\r\\n\\r\\n\\r\\n \\r\\n\\r\\n\\r\\n\\r\\n\\r\\n\\r\\n\\r\\n\\r\\n\\r\\n'"
      ]
     },
     "execution_count": 77,
     "metadata": {},
     "output_type": "execute_result"
    }
   ],
   "source": [
    "response.text"
   ]
  },
  {
   "cell_type": "code",
   "execution_count": 68,
   "metadata": {},
   "outputs": [
    {
     "data": {
      "text/plain": [
       "<Response [200]>"
      ]
     },
     "execution_count": 68,
     "metadata": {},
     "output_type": "execute_result"
    }
   ],
   "source": [
    "response"
   ]
  },
  {
   "cell_type": "code",
   "execution_count": 9,
   "metadata": {},
   "outputs": [],
   "source": [
    "headers = {\n",
    "            \"User-Agent\": \"Mozilla/5.0 (Windows NT 10.0; Win64; x64) AppleWebKit/537.36 (KHTML, like Gecko) Chrome/96.0.4664.110 Safari/537.36\",\n",
    "            \"Referer\": \"https://www.baidu.com/s?ie=utf-8&f=8&rsv_bp=1&rsv_idx=2&ch=&tn=baiduhome_pg&bar=&wd=123&oq=123&rsv_pq=896f886f000184f4&rsv_t=fdd2CqgBgjaepxfhicpCfrqeWVSXu9DOQY5WyyWqQYmsKOC%2Fl286S248elzxl%2BJhOKe2&rqlang=cn\",\n",
    "            \"Accept\": \"text/html,application/xhtml+xml,application/xml;q=0.9,image/webp,image/apng,*/*;q=0.8,application/signed-exchange;v=b3;q=0.9\",\n",
    "            \"Accept-Language\": \"en-US,en;q=0.9,zh-CN;q=0.8,zh;q=0.7\",\n",
    "            \"Sec-Fetch-Mode\": \"navigate\",\n",
    "            \"Cookie\": None,\n",
    "            \"Connection\": \"Keep-Alive\",\n",
    "        }"
   ]
  },
  {
   "cell_type": "code",
   "execution_count": 10,
   "metadata": {},
   "outputs": [],
   "source": [
    "def _get_response(\n",
    "    url: str, proxies: dict = {}, encoding: str = None\n",
    ") -> str:\n",
    "    \"\"\"获取网站响应，并返回源码\n",
    "\n",
    "    Args:\n",
    "        url (str): 要获取响应的链接\n",
    "        proxies (dict): 代理相关设置\n",
    "        encoding (Union[str, None]): 目标网页编码\n",
    "\n",
    "    Returns:\n",
    "        str: 获取到的网站HTML代码\n",
    "    \"\"\"\n",
    "    response = requests.get(url, headers=headers, proxies=proxies)\n",
    "    if encoding:\n",
    "        response.encoding = encoding\n",
    "        return response.text\n",
    "    content = bytes(response.text, response.encoding).decode(\"utf-8\")\n",
    "    return content"
   ]
  },
  {
   "cell_type": "code",
   "execution_count": 12,
   "metadata": {},
   "outputs": [],
   "source": [
    "url = 'https://cdjx.chengdu.gov.cn/cdsjxw/c132946/zwxx.shtml'\n",
    "content = _get_response(url)"
   ]
  },
  {
   "cell_type": "code",
   "execution_count": 13,
   "metadata": {},
   "outputs": [],
   "source": [
    "def _format(string: str) -> str:\n",
    "    \"\"\"去除字符串中不必要的成分并返回\n",
    "\n",
    "    Args:\n",
    "        string (str): 要整理的字符串\n",
    "\n",
    "    Returns:\n",
    "        str: 处理后的字符串\n",
    "    \"\"\"\n",
    "    text_to_replace = (\"\\xa0\", \"\\u2002\"\"\\u3000\")\n",
    "    string = string.strip()\n",
    "    for text in text_to_replace:\n",
    "        string = string.replace(text, \"\")\n",
    "    return string\n",
    "\n",
    "bs = BeautifulSoup(_format(content), \"html.parser\")"
   ]
  },
  {
   "cell_type": "code",
   "execution_count": 1,
   "metadata": {},
   "outputs": [],
   "source": [
    "from selenium import webdriver\n",
    "chromedriver_path = '/home/zouyou/package/chrome/chromedriver-linux64/chromedriver'\n",
    "# driver = webdriver.Chrome(chromedriver_path)\n"
   ]
  },
  {
   "cell_type": "code",
   "execution_count": 2,
   "metadata": {},
   "outputs": [
    {
     "name": "stderr",
     "output_type": "stream",
     "text": [
      "/tmp/ipykernel_514941/3572099532.py:3: DeprecationWarning: executable_path has been deprecated, please pass in a Service object\n",
      "  driver = webdriver.Chrome(chromedriver_path)\n"
     ]
    },
    {
     "ename": "SessionNotCreatedException",
     "evalue": "Message: session not created: Chrome failed to start: exited normally.\n  (session not created: DevToolsActivePort file doesn't exist)\n  (The process started from chrome location /opt/google/chrome/chrome is no longer running, so ChromeDriver is assuming that Chrome has crashed.)\nStacktrace:\n#0 0x55be64c7fdf9 <unknown>\n#1 0x55be6496c53c <unknown>\n#2 0x55be649a17b2 <unknown>\n#3 0x55be6499d64b <unknown>\n#4 0x55be649e753e <unknown>\n#5 0x55be649dac93 <unknown>\n#6 0x55be649ab1ee <unknown>\n#7 0x55be649abb5e <unknown>\n#8 0x55be64c4446b <unknown>\n#9 0x55be64c4839b <unknown>\n#10 0x55be64c2ff91 <unknown>\n#11 0x55be64c48f02 <unknown>\n#12 0x55be64c1467f <unknown>\n#13 0x55be64c6f5b8 <unknown>\n#14 0x55be64c6f790 <unknown>\n#15 0x55be64c7ef2f <unknown>\n#16 0x7f9d531eaac3 <unknown>\n",
     "output_type": "error",
     "traceback": [
      "\u001b[0;31m---------------------------------------------------------------------------\u001b[0m",
      "\u001b[0;31mSessionNotCreatedException\u001b[0m                Traceback (most recent call last)",
      "Cell \u001b[0;32mIn[2], line 3\u001b[0m\n\u001b[1;32m      1\u001b[0m \u001b[38;5;28;01mfrom\u001b[39;00m \u001b[38;5;21;01mselenium\u001b[39;00m \u001b[38;5;28;01mimport\u001b[39;00m webdriver\n\u001b[0;32m----> 3\u001b[0m driver \u001b[38;5;241m=\u001b[39m \u001b[43mwebdriver\u001b[49m\u001b[38;5;241;43m.\u001b[39;49m\u001b[43mChrome\u001b[49m\u001b[43m(\u001b[49m\u001b[43mchromedriver_path\u001b[49m\u001b[43m)\u001b[49m\n\u001b[1;32m      6\u001b[0m \u001b[38;5;66;03m# # 登录百度\u001b[39;00m\n\u001b[1;32m      7\u001b[0m \u001b[38;5;66;03m# def main():\u001b[39;00m\n\u001b[1;32m      8\u001b[0m \u001b[38;5;66;03m#     driver.get(\"https://baidu.com/\")\u001b[39;00m\n\u001b[0;32m   (...)\u001b[0m\n\u001b[1;32m     11\u001b[0m \u001b[38;5;66;03m# if __name__ == '__main__':\u001b[39;00m\n\u001b[1;32m     12\u001b[0m \u001b[38;5;66;03m#     main()\u001b[39;00m\n",
      "File \u001b[0;32m~/anaconda3/envs/spider/lib/python3.9/site-packages/selenium/webdriver/chrome/webdriver.py:70\u001b[0m, in \u001b[0;36mWebDriver.__init__\u001b[0;34m(self, executable_path, port, options, service_args, desired_capabilities, service_log_path, chrome_options, service, keep_alive)\u001b[0m\n\u001b[1;32m     67\u001b[0m \u001b[38;5;28;01mif\u001b[39;00m \u001b[38;5;129;01mnot\u001b[39;00m service:\n\u001b[1;32m     68\u001b[0m     service \u001b[38;5;241m=\u001b[39m Service(executable_path, port, service_args, service_log_path)\n\u001b[0;32m---> 70\u001b[0m \u001b[38;5;28;43msuper\u001b[39;49m\u001b[43m(\u001b[49m\u001b[43mWebDriver\u001b[49m\u001b[43m,\u001b[49m\u001b[43m \u001b[49m\u001b[38;5;28;43mself\u001b[39;49m\u001b[43m)\u001b[49m\u001b[38;5;241;43m.\u001b[39;49m\u001b[38;5;21;43m__init__\u001b[39;49m\u001b[43m(\u001b[49m\u001b[43mDesiredCapabilities\u001b[49m\u001b[38;5;241;43m.\u001b[39;49m\u001b[43mCHROME\u001b[49m\u001b[43m[\u001b[49m\u001b[38;5;124;43m'\u001b[39;49m\u001b[38;5;124;43mbrowserName\u001b[39;49m\u001b[38;5;124;43m'\u001b[39;49m\u001b[43m]\u001b[49m\u001b[43m,\u001b[49m\u001b[43m \u001b[49m\u001b[38;5;124;43m\"\u001b[39;49m\u001b[38;5;124;43mgoog\u001b[39;49m\u001b[38;5;124;43m\"\u001b[39;49m\u001b[43m,\u001b[49m\n\u001b[1;32m     71\u001b[0m \u001b[43m                                \u001b[49m\u001b[43mport\u001b[49m\u001b[43m,\u001b[49m\u001b[43m \u001b[49m\u001b[43moptions\u001b[49m\u001b[43m,\u001b[49m\n\u001b[1;32m     72\u001b[0m \u001b[43m                                \u001b[49m\u001b[43mservice_args\u001b[49m\u001b[43m,\u001b[49m\u001b[43m \u001b[49m\u001b[43mdesired_capabilities\u001b[49m\u001b[43m,\u001b[49m\n\u001b[1;32m     73\u001b[0m \u001b[43m                                \u001b[49m\u001b[43mservice_log_path\u001b[49m\u001b[43m,\u001b[49m\u001b[43m \u001b[49m\u001b[43mservice\u001b[49m\u001b[43m,\u001b[49m\u001b[43m \u001b[49m\u001b[43mkeep_alive\u001b[49m\u001b[43m)\u001b[49m\n",
      "File \u001b[0;32m~/anaconda3/envs/spider/lib/python3.9/site-packages/selenium/webdriver/chromium/webdriver.py:93\u001b[0m, in \u001b[0;36mChromiumDriver.__init__\u001b[0;34m(self, browser_name, vendor_prefix, port, options, service_args, desired_capabilities, service_log_path, service, keep_alive)\u001b[0m\n\u001b[1;32m     90\u001b[0m \u001b[38;5;28mself\u001b[39m\u001b[38;5;241m.\u001b[39mservice\u001b[38;5;241m.\u001b[39mstart()\n\u001b[1;32m     92\u001b[0m \u001b[38;5;28;01mtry\u001b[39;00m:\n\u001b[0;32m---> 93\u001b[0m     \u001b[43mRemoteWebDriver\u001b[49m\u001b[38;5;241;43m.\u001b[39;49m\u001b[38;5;21;43m__init__\u001b[39;49m\u001b[43m(\u001b[49m\n\u001b[1;32m     94\u001b[0m \u001b[43m        \u001b[49m\u001b[38;5;28;43mself\u001b[39;49m\u001b[43m,\u001b[49m\n\u001b[1;32m     95\u001b[0m \u001b[43m        \u001b[49m\u001b[43mcommand_executor\u001b[49m\u001b[38;5;241;43m=\u001b[39;49m\u001b[43mChromiumRemoteConnection\u001b[49m\u001b[43m(\u001b[49m\n\u001b[1;32m     96\u001b[0m \u001b[43m            \u001b[49m\u001b[43mremote_server_addr\u001b[49m\u001b[38;5;241;43m=\u001b[39;49m\u001b[38;5;28;43mself\u001b[39;49m\u001b[38;5;241;43m.\u001b[39;49m\u001b[43mservice\u001b[49m\u001b[38;5;241;43m.\u001b[39;49m\u001b[43mservice_url\u001b[49m\u001b[43m,\u001b[49m\n\u001b[1;32m     97\u001b[0m \u001b[43m            \u001b[49m\u001b[43mbrowser_name\u001b[49m\u001b[38;5;241;43m=\u001b[39;49m\u001b[43mbrowser_name\u001b[49m\u001b[43m,\u001b[49m\u001b[43m \u001b[49m\u001b[43mvendor_prefix\u001b[49m\u001b[38;5;241;43m=\u001b[39;49m\u001b[43mvendor_prefix\u001b[49m\u001b[43m,\u001b[49m\n\u001b[1;32m     98\u001b[0m \u001b[43m            \u001b[49m\u001b[43mkeep_alive\u001b[49m\u001b[38;5;241;43m=\u001b[39;49m\u001b[43mkeep_alive\u001b[49m\u001b[43m,\u001b[49m\u001b[43m \u001b[49m\u001b[43mignore_proxy\u001b[49m\u001b[38;5;241;43m=\u001b[39;49m\u001b[43m_ignore_proxy\u001b[49m\u001b[43m)\u001b[49m\u001b[43m,\u001b[49m\n\u001b[1;32m     99\u001b[0m \u001b[43m        \u001b[49m\u001b[43moptions\u001b[49m\u001b[38;5;241;43m=\u001b[39;49m\u001b[43moptions\u001b[49m\u001b[43m)\u001b[49m\n\u001b[1;32m    100\u001b[0m \u001b[38;5;28;01mexcept\u001b[39;00m \u001b[38;5;167;01mException\u001b[39;00m:\n\u001b[1;32m    101\u001b[0m     \u001b[38;5;28mself\u001b[39m\u001b[38;5;241m.\u001b[39mquit()\n",
      "File \u001b[0;32m~/anaconda3/envs/spider/lib/python3.9/site-packages/selenium/webdriver/remote/webdriver.py:269\u001b[0m, in \u001b[0;36mWebDriver.__init__\u001b[0;34m(self, command_executor, desired_capabilities, browser_profile, proxy, keep_alive, file_detector, options)\u001b[0m\n\u001b[1;32m    267\u001b[0m \u001b[38;5;28mself\u001b[39m\u001b[38;5;241m.\u001b[39mfile_detector \u001b[38;5;241m=\u001b[39m file_detector \u001b[38;5;129;01mor\u001b[39;00m LocalFileDetector()\n\u001b[1;32m    268\u001b[0m \u001b[38;5;28mself\u001b[39m\u001b[38;5;241m.\u001b[39mstart_client()\n\u001b[0;32m--> 269\u001b[0m \u001b[38;5;28;43mself\u001b[39;49m\u001b[38;5;241;43m.\u001b[39;49m\u001b[43mstart_session\u001b[49m\u001b[43m(\u001b[49m\u001b[43mcapabilities\u001b[49m\u001b[43m,\u001b[49m\u001b[43m \u001b[49m\u001b[43mbrowser_profile\u001b[49m\u001b[43m)\u001b[49m\n",
      "File \u001b[0;32m~/anaconda3/envs/spider/lib/python3.9/site-packages/selenium/webdriver/remote/webdriver.py:360\u001b[0m, in \u001b[0;36mWebDriver.start_session\u001b[0;34m(self, capabilities, browser_profile)\u001b[0m\n\u001b[1;32m    357\u001b[0m w3c_caps \u001b[38;5;241m=\u001b[39m _make_w3c_caps(capabilities)\n\u001b[1;32m    358\u001b[0m parameters \u001b[38;5;241m=\u001b[39m {\u001b[38;5;124m\"\u001b[39m\u001b[38;5;124mcapabilities\u001b[39m\u001b[38;5;124m\"\u001b[39m: w3c_caps,\n\u001b[1;32m    359\u001b[0m               \u001b[38;5;124m\"\u001b[39m\u001b[38;5;124mdesiredCapabilities\u001b[39m\u001b[38;5;124m\"\u001b[39m: capabilities}\n\u001b[0;32m--> 360\u001b[0m response \u001b[38;5;241m=\u001b[39m \u001b[38;5;28;43mself\u001b[39;49m\u001b[38;5;241;43m.\u001b[39;49m\u001b[43mexecute\u001b[49m\u001b[43m(\u001b[49m\u001b[43mCommand\u001b[49m\u001b[38;5;241;43m.\u001b[39;49m\u001b[43mNEW_SESSION\u001b[49m\u001b[43m,\u001b[49m\u001b[43m \u001b[49m\u001b[43mparameters\u001b[49m\u001b[43m)\u001b[49m\n\u001b[1;32m    361\u001b[0m \u001b[38;5;28;01mif\u001b[39;00m \u001b[38;5;124m'\u001b[39m\u001b[38;5;124msessionId\u001b[39m\u001b[38;5;124m'\u001b[39m \u001b[38;5;129;01mnot\u001b[39;00m \u001b[38;5;129;01min\u001b[39;00m response:\n\u001b[1;32m    362\u001b[0m     response \u001b[38;5;241m=\u001b[39m response[\u001b[38;5;124m'\u001b[39m\u001b[38;5;124mvalue\u001b[39m\u001b[38;5;124m'\u001b[39m]\n",
      "File \u001b[0;32m~/anaconda3/envs/spider/lib/python3.9/site-packages/selenium/webdriver/remote/webdriver.py:425\u001b[0m, in \u001b[0;36mWebDriver.execute\u001b[0;34m(self, driver_command, params)\u001b[0m\n\u001b[1;32m    423\u001b[0m response \u001b[38;5;241m=\u001b[39m \u001b[38;5;28mself\u001b[39m\u001b[38;5;241m.\u001b[39mcommand_executor\u001b[38;5;241m.\u001b[39mexecute(driver_command, params)\n\u001b[1;32m    424\u001b[0m \u001b[38;5;28;01mif\u001b[39;00m response:\n\u001b[0;32m--> 425\u001b[0m     \u001b[38;5;28;43mself\u001b[39;49m\u001b[38;5;241;43m.\u001b[39;49m\u001b[43merror_handler\u001b[49m\u001b[38;5;241;43m.\u001b[39;49m\u001b[43mcheck_response\u001b[49m\u001b[43m(\u001b[49m\u001b[43mresponse\u001b[49m\u001b[43m)\u001b[49m\n\u001b[1;32m    426\u001b[0m     response[\u001b[38;5;124m'\u001b[39m\u001b[38;5;124mvalue\u001b[39m\u001b[38;5;124m'\u001b[39m] \u001b[38;5;241m=\u001b[39m \u001b[38;5;28mself\u001b[39m\u001b[38;5;241m.\u001b[39m_unwrap_value(\n\u001b[1;32m    427\u001b[0m         response\u001b[38;5;241m.\u001b[39mget(\u001b[38;5;124m'\u001b[39m\u001b[38;5;124mvalue\u001b[39m\u001b[38;5;124m'\u001b[39m, \u001b[38;5;28;01mNone\u001b[39;00m))\n\u001b[1;32m    428\u001b[0m     \u001b[38;5;28;01mreturn\u001b[39;00m response\n",
      "File \u001b[0;32m~/anaconda3/envs/spider/lib/python3.9/site-packages/selenium/webdriver/remote/errorhandler.py:247\u001b[0m, in \u001b[0;36mErrorHandler.check_response\u001b[0;34m(self, response)\u001b[0m\n\u001b[1;32m    245\u001b[0m         alert_text \u001b[38;5;241m=\u001b[39m value[\u001b[38;5;124m'\u001b[39m\u001b[38;5;124malert\u001b[39m\u001b[38;5;124m'\u001b[39m]\u001b[38;5;241m.\u001b[39mget(\u001b[38;5;124m'\u001b[39m\u001b[38;5;124mtext\u001b[39m\u001b[38;5;124m'\u001b[39m)\n\u001b[1;32m    246\u001b[0m     \u001b[38;5;28;01mraise\u001b[39;00m exception_class(message, screen, stacktrace, alert_text)  \u001b[38;5;66;03m# type: ignore[call-arg]  # mypy is not smart enough here\u001b[39;00m\n\u001b[0;32m--> 247\u001b[0m \u001b[38;5;28;01mraise\u001b[39;00m exception_class(message, screen, stacktrace)\n",
      "\u001b[0;31mSessionNotCreatedException\u001b[0m: Message: session not created: Chrome failed to start: exited normally.\n  (session not created: DevToolsActivePort file doesn't exist)\n  (The process started from chrome location /opt/google/chrome/chrome is no longer running, so ChromeDriver is assuming that Chrome has crashed.)\nStacktrace:\n#0 0x55be64c7fdf9 <unknown>\n#1 0x55be6496c53c <unknown>\n#2 0x55be649a17b2 <unknown>\n#3 0x55be6499d64b <unknown>\n#4 0x55be649e753e <unknown>\n#5 0x55be649dac93 <unknown>\n#6 0x55be649ab1ee <unknown>\n#7 0x55be649abb5e <unknown>\n#8 0x55be64c4446b <unknown>\n#9 0x55be64c4839b <unknown>\n#10 0x55be64c2ff91 <unknown>\n#11 0x55be64c48f02 <unknown>\n#12 0x55be64c1467f <unknown>\n#13 0x55be64c6f5b8 <unknown>\n#14 0x55be64c6f790 <unknown>\n#15 0x55be64c7ef2f <unknown>\n#16 0x7f9d531eaac3 <unknown>\n"
     ]
    }
   ],
   "source": [
    "from selenium import webdriver\n",
    " \n",
    "driver = webdriver.Chrome(chromedriver_path)\n",
    " \n",
    " \n",
    "# # 登录百度\n",
    "# def main():\n",
    "#     driver.get(\"https://baidu.com/\")\n",
    " \n",
    " \n",
    "# if __name__ == '__main__':\n",
    "#     main()"
   ]
  },
  {
   "cell_type": "code",
   "execution_count": null,
   "metadata": {},
   "outputs": [],
   "source": []
  }
 ],
 "metadata": {
  "kernelspec": {
   "display_name": "spider",
   "language": "python",
   "name": "python3"
  },
  "language_info": {
   "codemirror_mode": {
    "name": "ipython",
    "version": 3
   },
   "file_extension": ".py",
   "mimetype": "text/x-python",
   "name": "python",
   "nbconvert_exporter": "python",
   "pygments_lexer": "ipython3",
   "version": "3.9.18"
  }
 },
 "nbformat": 4,
 "nbformat_minor": 2
}
