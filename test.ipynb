{
 "cells": [
  {
   "cell_type": "code",
   "execution_count": 1,
   "metadata": {},
   "outputs": [],
   "source": [
    "import requests\n",
    "import datetime\n",
    "import time\n",
    "import sys\n",
    "import io\n",
    "import re\n",
    "import argparse\n",
    "from bs4 import BeautifulSoup\n",
    "import random\n",
    "from utils import sleep_time, title_pattern, content_pattern, write_file, now, MyHeaders, logger, timeout\n"
   ]
  },
  {
   "cell_type": "code",
   "execution_count": null,
   "metadata": {},
   "outputs": [],
   "source": []
  },
  {
   "cell_type": "code",
   "execution_count": 2,
   "metadata": {},
   "outputs": [],
   "source": [
    "def get_bs(url):\n",
    "    headers = {'User-Agent': random.choice(MyHeaders)}\n",
    "    response = requests.get(url, headers=headers, verify=False)\n",
    "    response.encoding = 'utf-8'\n",
    "    bs = BeautifulSoup(response.content, 'html5lib')\n",
    "\n",
    "    return bs, response"
   ]
  },
  {
   "cell_type": "code",
   "execution_count": 109,
   "metadata": {},
   "outputs": [
    {
     "name": "stderr",
     "output_type": "stream",
     "text": [
      "/home/zouyou/anaconda3/envs/spider/lib/python3.9/site-packages/urllib3/connectionpool.py:1103: InsecureRequestWarning: Unverified HTTPS request is being made to host 'zcom.zj.gov.cn'. Adding certificate verification is strongly advised. See: https://urllib3.readthedocs.io/en/latest/advanced-usage.html#tls-warnings\n",
      "  warnings.warn(\n"
     ]
    },
    {
     "data": {
      "text/plain": [
       "<!DOCTYPE html PUBLIC \"-//W3C//DTD XHTML 1.0 Transitional//EN\">\n",
       "<html xmlns=\"http://www.w3.org/1999/xhtml\"><head>\n",
       "    <meta content=\"IE=edge,chrome=1\" http-equiv=\"X-UA-Compatible\"/>\n",
       "    <meta content=\"text/html; charset=utf-8\" http-equiv=\"Content-Type\"/><script language=\"javascript\" src=\"/module/jslib/jquery/jquery.js\"></script>\n",
       "<script language=\"javascript\" src=\"/module/jslib/urite/urite.min.js\"></script>\n",
       "\n",
       "<link href=\"/script/page.css\" rel=\"stylesheet\" type=\"text/css\"/>\n",
       "\n",
       "    <meta content=\"webkit\" name=\"renderer\"/>\n",
       "    <link href=\"/images/25663/hanweb.css\" rel=\"stylesheet\" type=\"text/css\"/>\n",
       "    <link href=\"/images/25663/hanweb_js.css\" rel=\"stylesheet\" type=\"text/css\"/>\n",
       "    <link href=\"/images/25663/hanweb_zj.css\" rel=\"stylesheet\" type=\"text/css\"/>\n",
       "    <link href=\"/images/25663/zjswt5.6.css\" rel=\"stylesheet\"/>\n",
       "    <link href=\"/images/25663/hanweb_flex.css\" rel=\"stylesheet\"/>\n",
       "    <script src=\"/images/25663/jquery.js\" type=\"text/javascript\"></script>\n",
       "   <style>\n",
       "  .default_pgToolbar option{font-size:13px;}\n",
       "</style>\n",
       "    <title>浙江省商务厅 通知公告</title>\n",
       "<meta content=\"2024-04-30 15:51:11_193\" name=\"Maketime\"/>\n",
       "<meta content=\"no-cache\" http-equiv=\"pragma\"/>\n",
       "<meta content=\"no-store, must-revalidate\" http-equiv=\"Cache-Control\"/>\n",
       "<meta content=\"浙江省商务厅\" name=\"SiteName\"/>\n",
       "<meta content=\"zcom.zj.gov.cn\" name=\"SiteDomain\"/>\n",
       "<meta content=\"3300000070\" name=\"SiteIDCode\"/>\n",
       "<meta content=\"通知公告\" name=\"ColumnName\"/>\n",
       "<meta content=\"通知公告\" name=\"ColumnDescription\"/>\n",
       "<meta content=\"通知公告\" name=\"ColumnKeywords\"/>\n",
       "<meta content=\"通知公告\" name=\"ColumnType\"/>\n",
       "<meta content=\"通知公告\" name=\"channel\"/>\n",
       "<meta content=\"\" name=\"chnlcatalog\"/>\n",
       "<meta content=\"http://zcom.zj.gov.cn/col/col1384587/index.html,,省级\" name=\"server\"/>\n",
       "</head>\n",
       "<body style=\" background:#ececec\">\n",
       "<script type=\"text/javascript\">\n",
       "    function setTab(name,cursel,n){\n",
       "        for(i=1;i<=n;i++){\n",
       "            var menu=document.getElementById(name+i);\n",
       "            var con=document.getElementById(\"con_\"+name+\"_\"+i);\n",
       "            menu.className=i==cursel?\"hover\":\"\";\n",
       "            con.style.display=i==cursel?\"block\":\"none\";\n",
       "        }\n",
       "    }\n",
       "</script>\n",
       "<!--头部开始-->\n",
       "<div class=\"bt-head\" style=\" background:#fff\">\n",
       "    <div class=\"head-cen\">\n",
       "        <script src=\"/script/0/8a9789bf605a410a9693e0ba91a3866c.js\"></script>\n",
       "    </div>\n",
       "</div>\n",
       "<!--头部结束-->\n",
       "<!--导航开始-->\n",
       "<div class=\"bt-nav-y\" style=\" background:#064892\">\n",
       "    <!--雅黑class后缀是y, 宋体是S-->\n",
       "    <script src=\"/script/0/6b1ad6a933a1482ea1ba4a7cb81c6084.js\"></script>\n",
       "\n",
       "</div>\n",
       "<!--当前位置开始-->\n",
       "<div class=\"bt-box\">\n",
       "\t<div class=\"bt-positionwz\">\n",
       "\t\t<table border=\"0\" cellpadding=\"0\" cellspacing=\"0\" style=\"margin-left:20px;height:39px;line-height:39px\">\n",
       "<tbody><tr>\n",
       "<td><a class=\"bt_link\" href=\"/index.html\">首页</a></td>\n",
       "<td><table border=\"0\" cellpadding=\"0\" cellspacing=\"0\" width=\"100%\">\n",
       "<tbody><tr>\n",
       "<td> &gt; <a class=\"bt_link\" href=\"/col/col1384586/index.html\">新闻资讯</a></td><td> &gt; <a class=\"bt_link\" href=\"/col/col1384587/index.html\">通知公告</a></td>\n",
       "</tr></tbody></table>\n",
       "</td>\n",
       "</tr>\n",
       "</tbody></table>\n",
       "\t</div>\n",
       "</div>\n",
       "<!--当前位置结束-->\n",
       "<!--导航结束-->\n",
       "<div class=\"bt-main\" style=\"background-color: #fff\">\n",
       "\t<div class=\"bt-note-30\"><!--分割线--></div>\n",
       "\t<div class=\"bt-box-1100\">\n",
       "\t\t<div class=\"bt-left\" style=\"background: #f5f5f5;width:300px;min-height:476px\">\n",
       "\t\t\t<div style=\"background: #016dae; height: 50px;text-align: center;line-height: 50px;color: #fff;font-weight: bold\">新闻资讯\n",
       "</div>\n",
       "\t\t\t<div class=\"bt-margin-top-20\">\n",
       "\t\t\t\t<style>\n",
       ".tjlm li a:hover {\n",
       "    color: #fff;\n",
       "    background: url(/picture/0/1711061126114304085.png) no-repeat 43px center #6d8dbd;\n",
       "}\n",
       ".tjlm li{background: url(/picture/0/1711061110589518516.png) no-repeat 43px center;}\n",
       ".tjlm li a {\n",
       "    display: block;\n",
       "    height: 45px;\n",
       "    padding-left: 57px; \n",
       "    line-height: 45px;\n",
       "    border-bottom: 1px solid #e3e3e3;\n",
       "    font-size: 17px;\n",
       "\t}\n",
       "</style>\n",
       "<ul class=\"tjlm\">\n",
       "           \n",
       "<li class=\"通知公告\">\n",
       "\t<a href=\"/col/col1384587/index.html\" id=\"\" style=\"font-size:17px;\">\n",
       "\t\t通知公告\n",
       "\t</a>\n",
       "</li>      \n",
       "          \n",
       "<li class=\"商务部文告\">\n",
       "\t<a href=\"http://www.mofcom.gov.cn/article/b/g/?2\" id=\"\" style=\"font-size:17px;\">\n",
       "\t\t商务部文告\n",
       "\t</a>\n",
       "</li>      \n",
       "          \n",
       "<li class=\"图片新闻\">\n",
       "\t<a href=\"/col/col1384590/index.html\" id=\"\" style=\"font-size:17px;\">\n",
       "\t\t图片新闻\n",
       "\t</a>\n",
       "</li>      \n",
       "          \n",
       "<li class=\"工作动态\">\n",
       "\t<a href=\"/col/col1384591/index.html\" id=\"\" style=\"font-size:17px;\">\n",
       "\t\t工作动态\n",
       "\t</a>\n",
       "</li>      \n",
       "          \n",
       "<li class=\"市县动态\">\n",
       "\t<a href=\"/col/col1384592/index.html\" id=\"\" style=\"font-size:17px;\">\n",
       "\t\t市县动态\n",
       "\t</a>\n",
       "</li>      \n",
       "          \n",
       "<li class=\"微信公众号\">\n",
       "\t<a href=\"/col/col1415809/index.html\" id=\"\" style=\"font-size:17px;\">\n",
       "\t\t微信公众号\n",
       "\t</a>\n",
       "</li>      \n",
       "          \n",
       "<li class=\"省政府\">\n",
       "\t<a href=\"http://www.zj.gov.cn/col/col41146/index.html\" id=\"\" style=\"font-size:17px;\">\n",
       "\t\t省政府\n",
       "\t</a>\n",
       "</li>      \n",
       "          \n",
       "<li class=\"国务院\">\n",
       "\t<a href=\"http://www.gov.cn/pushinfo/v150203/index.htm\" id=\"\" style=\"font-size:17px;\">\n",
       "\t\t国务院\n",
       "\t</a>\n",
       "</li>      \n",
       "          \n",
       "<li class=\"展会信息\">\n",
       "\t<a href=\"/col/col1450436/index.html\" id=\"\" style=\"font-size:17px;\">\n",
       "\t\t展会信息\n",
       "\t</a>\n",
       "</li>      \n",
       "\n",
       "</ul>\n",
       "\n",
       "<style>\n",
       ".通知公告 a{\n",
       "   \n",
       "    background: url(/picture/0/1711070928451062287.png) no-repeat 43px center #6d8dbd;\n",
       "}\n",
       ".通知公告 a{color:#fff; }\n",
       "</style>\n",
       "\n",
       "\n",
       "\t\t\t</div>\n",
       "\t\t</div>\n",
       "\t\t<div class=\"bt-right\" style=\"background: #f5f5f5;width:800px;min-height:476px\">\n",
       "\t\t\t<div>\t\t\t\t\t\t\t\t\t\t\t\t\t\t\t\t\t\t\t\t\t\t\t\t\t\t\t\t\t\t\t\t\t\t\t\t\t\t\t\t\t\t\t\t\t\t\t\t\t\t\t\t\t\t\t\t\t\t\t\t\t\t\t\t\t\t\t\t\t\t\t\t\t\t\t\t\t\t\t\t<div id=\"4450235\"><script type=\"text/xml\"><datastore>\n",
       "<nextgroup><![CDATA[<a href=\"/module/jpage/dataproxy.jsp?page=1&appid=1&appid=1&webid=2757&path=/&columnid=1384587&unitid=4450235&webname=浙江省商务厅&permissiontype=0\"></a>]]></nextgroup>\n",
       "<recordset>\n",
       "<style> .bt-mod-wzpb-03{  padding:10px 20px; } .bt-mod-wzpb-03 li a {  line-height:40px; } .bt-mod-wzpb-03 li .bt-data-time{  line-height:36px; } .bt-mod-wzpb-03 li .bt-prefix img { margin: 17px 10px 0 0;     display: block; } \n",
       "  .bt-mod-wzpb-03 li{border-bottom: dashed 1px #c9c9c9; line-height:40px;}\n",
       ".default_pgStartRecord{font-size:12px}\n",
       ".default_pgEndRecord{font-size:12px}\n",
       ".default_pgTotalPage{font-size:12px}\n",
       "</style> \n",
       "<div class=\"bt-mod-wzpb-03\">\n",
       "<ul>\n",
       "</ul>\n",
       "</div>\n",
       "<record><![CDATA[\n",
       "<li ><span class=\"bt-prefix\"><img src='http://zjjcmspublic.oss-cn-hangzhou-zwynet-d01-a.internet.cloud.zj.gov.cn/jcms_files/jcms1/web2757/site/picture/0/1710271411586785162.jpg' align='absmiddle' border='0'></span><a href='/art/2024/4/30/art_1384587_58944574.html' title='关于公开征求《关于促进浙江省餐饮业高质量发展的指导意见（征求意见稿）》意见的公告'target=\"_blank\" style=\"font-size:17px\"> 关于公开征求《关于促进浙江省餐饮业高质量发展的指导意见（征求意见稿...</a><span class=\"bt-data-time\"style=\"font-size:15px;\">2024-04-30</span></li>]]></record>\n",
       "<record><![CDATA[\n",
       "<li ><span class=\"bt-prefix\"><img src='http://zjjcmspublic.oss-cn-hangzhou-zwynet-d01-a.internet.cloud.zj.gov.cn/jcms_files/jcms1/web2757/site/picture/0/1710271411586785162.jpg' align='absmiddle' border='0'></span><a href='/art/2024/4/15/art_1384587_58944499.html' title='浙江省商务厅关于“中华老字号”附条件通过企业整改情况的结果公示'target=\"_blank\" style=\"font-size:17px\"> 浙江省商务厅关于“中华老字号”附条件通过企业整改情况的结果公示</a><span class=\"bt-data-time\"style=\"font-size:15px;\">2024-04-15</span></li>]]></record>\n",
       "<record><![CDATA[\n",
       "<li ><span class=\"bt-prefix\"><img src='http://zjjcmspublic.oss-cn-hangzhou-zwynet-d01-a.internet.cloud.zj.gov.cn/jcms_files/jcms1/web2757/site/picture/0/1710271411586785162.jpg' align='absmiddle' border='0'></span><a href='/art/2024/4/9/art_1384587_58944456.html' title='关于2023年度全省境外经贸合作区评价结果的公示'target=\"_blank\" style=\"font-size:17px\"> 关于2023年度全省境外经贸合作区评价结果的公示</a><span class=\"bt-data-time\"style=\"font-size:15px;\">2024-04-09</span></li>]]></record>\n",
       "<record><![CDATA[\n",
       "<li ><span class=\"bt-prefix\"><img src='http://zjjcmspublic.oss-cn-hangzhou-zwynet-d01-a.internet.cloud.zj.gov.cn/jcms_files/jcms1/web2757/site/picture/0/1710271411586785162.jpg' align='absmiddle' border='0'></span><a href='/art/2024/4/9/art_1384587_58944449.html' title='浙江省商务厅2023年度逾期尚未支付中小企业款项信息情况的公示'target=\"_blank\" style=\"font-size:17px\"> 浙江省商务厅2023年度逾期尚未支付中小企业款项信息情况的公示</a><span class=\"bt-data-time\"style=\"font-size:15px;\">2024-04-09</span></li>]]></record>\n",
       "<record><![CDATA[\n",
       "<li ><span class=\"bt-prefix\"><img src='http://zjjcmspublic.oss-cn-hangzhou-zwynet-d01-a.internet.cloud.zj.gov.cn/jcms_files/jcms1/web2757/site/picture/0/1710271411586785162.jpg' align='absmiddle' border='0'></span><a href='/art/2024/4/7/art_1384587_58944442.html' title='关于2024年度浙江省标准创新贡献奖拟推荐名单的公示'target=\"_blank\" style=\"font-size:17px\"> 关于2024年度浙江省标准创新贡献奖拟推荐名单的公示</a><span class=\"bt-data-time\"style=\"font-size:15px;\">2024-04-07</span></li>]]></record>\n",
       "<record><![CDATA[\n",
       "<li ><span class=\"bt-prefix\"><img src='http://zjjcmspublic.oss-cn-hangzhou-zwynet-d01-a.internet.cloud.zj.gov.cn/jcms_files/jcms1/web2757/site/picture/0/1710271411586785162.jpg' align='absmiddle' border='0'></span><a href='/art/2024/4/1/art_1384587_58944423.html' title='浙江省商务厅关于全省预拌混凝土行业清洁生产迭代升级第一批创新中心、示范企业、达标企业名单的公示'target=\"_blank\" style=\"font-size:17px\"> 浙江省商务厅关于全省预拌混凝土行业清洁生产迭代升级第一批创新中心、...</a><span class=\"bt-data-time\"style=\"font-size:15px;\">2024-04-01</span></li>]]></record>\n",
       "<record><![CDATA[\n",
       "<li ><span class=\"bt-prefix\"><img src='http://zjjcmspublic.oss-cn-hangzhou-zwynet-d01-a.internet.cloud.zj.gov.cn/jcms_files/jcms1/web2757/site/picture/0/1710271411586785162.jpg' align='absmiddle' border='0'></span><a href='/art/2024/3/29/art_1384587_58944414.html' title='关于2023年度省级海外仓复评结果的公示'target=\"_blank\" style=\"font-size:17px\"> 关于2023年度省级海外仓复评结果的公示</a><span class=\"bt-data-time\"style=\"font-size:15px;\">2024-03-29</span></li>]]></record>\n",
       "<record><![CDATA[\n",
       "<li ><span class=\"bt-prefix\"><img src='http://zjjcmspublic.oss-cn-hangzhou-zwynet-d01-a.internet.cloud.zj.gov.cn/jcms_files/jcms1/web2757/site/picture/0/1710271411586785162.jpg' align='absmiddle' border='0'></span><a href='/art/2024/3/28/art_1384587_58944400.html' title='浙江省商务厅关于公布2024年重大行政决策事项目录的通知'target=\"_blank\" style=\"font-size:17px\"> 浙江省商务厅关于公布2024年重大行政决策事项目录的通知</a><span class=\"bt-data-time\"style=\"font-size:15px;\">2024-03-28</span></li>]]></record>\n",
       "<record><![CDATA[\n",
       "<li ><span class=\"bt-prefix\"><img src='http://zjjcmspublic.oss-cn-hangzhou-zwynet-d01-a.internet.cloud.zj.gov.cn/jcms_files/jcms1/web2757/site/picture/0/1710271411586785162.jpg' align='absmiddle' border='0'></span><a href='/art/2024/3/22/art_1384587_58944320.html' title='浙江省商务厅关于全国首批废旧家电家具等再生资源回收体系建设典型城市和典型企业拟推荐名单公示'target=\"_blank\" style=\"font-size:17px\"> 浙江省商务厅关于全国首批废旧家电家具等再生资源回收体系建设典型城市...</a><span class=\"bt-data-time\"style=\"font-size:15px;\">2024-03-22</span></li>]]></record>\n",
       "<record><![CDATA[\n",
       "<li ><span class=\"bt-prefix\"><img src='http://zjjcmspublic.oss-cn-hangzhou-zwynet-d01-a.internet.cloud.zj.gov.cn/jcms_files/jcms1/web2757/site/picture/0/1710271411586785162.jpg' align='absmiddle' border='0'></span><a href='/art/2024/3/14/art_1384587_58944293.html' title='关于公开征求《关于深化内外贸一体化改革创新的若干措施（征求意见稿）》意见的公告'target=\"_blank\" style=\"font-size:17px\"> 关于公开征求《关于深化内外贸一体化改革创新的若干措施（征求意见稿）...</a><span class=\"bt-data-time\"style=\"font-size:15px;\">2024-03-14</span></li>]]></record>\n",
       "</recordset>\n",
       "</datastore></script></div><link href=\"/module/jpage/theme/default/css/jpage.css\" rel=\"stylesheet\" type=\"text/css\"/><script language=\"javascript\" src=\"/module/jslib/My97DatePicker/WdatePicker.js\"></script><script language=\"javascript\" src=\"/module/jslib/jquery/jquery.js\"></script><script language=\"javascript\" src=\"/module/jslib/jquery/cookie/jquery.cookie.js\"></script><script language=\"javascript\" src=\"/module/jpage/jquery.jpage.js\"></script><script>var param_4450235 = {col:1,appid:'1',webid:2757,path:'/',columnid:1384587,sourceContentType:1,unitid:'4450235',webname:'浙江省商务厅',permissiontype:0}; function jpage_4450235(){$('#jpageform_4450235 :input').each(function(){param_4450235[$(this).attr('name')]=$(this).val();});$('#4450235').jpage({themeName:'default',showMode:'full',totalRecord:1000,openCookies:false,dataBefore:'<style> .bt-mod-wzpb-03{  padding:10px 20px; } .bt-mod-wzpb-03 li a {  line-height:40px; } .bt-mod-wzpb-03 li .bt-data-time{  line-height:36px; } .bt-mod-wzpb-03 li .bt-prefix img { margin: 17px 10px 0 0;     display: block; }   .bt-mod-wzpb-03 li{border-bottom: dashed 1px #c9c9c9; line-height:40px;}.default_pgStartRecord{font-size:12px}.default_pgEndRecord{font-size:12px}.default_pgTotalPage{font-size:12px}</style> <div class=\"bt-mod-wzpb-03\"><ul>',dataAfter:'</ul></div>',groupSize:1,proxyUrl:'/module/jpage/dataproxy.jsp',perPage:10,barPosition:'bottom',ajaxParam:param_4450235});};$(function(){$('#4450235').jpage({themeName:'default',showMode:'full',totalRecord:1725,openCookies:false,dataBefore:'<style> .bt-mod-wzpb-03{  padding:10px 20px; } .bt-mod-wzpb-03 li a {  line-height:40px; } .bt-mod-wzpb-03 li .bt-data-time{  line-height:36px; } .bt-mod-wzpb-03 li .bt-prefix img { margin: 17px 10px 0 0;     display: block; }   .bt-mod-wzpb-03 li{border-bottom: dashed 1px #c9c9c9; line-height:40px;}.default_pgStartRecord{font-size:12px}.default_pgEndRecord{font-size:12px}.default_pgTotalPage{font-size:12px}</style> <div class=\"bt-mod-wzpb-03\"><ul>',dataStore:$('#4450235').children('script').html(),dataAfter:'</ul></div>',groupSize:1,proxyUrl:'/module/jpage/dataproxy.jsp',perPage:10,barPosition:'bottom',ajaxParam:param_4450235});});</script>\n",
       "</div>\n",
       "\n",
       "\t\t</div>\n",
       "\t</div>\n",
       "\t<!--栏目结束-->\n",
       "\n",
       "\t<div class=\"bt-note-30\"><!--分割线--></div>\n",
       "\n",
       "\n",
       "</div>\n",
       "<!--页脚开始-->\n",
       "<div class=\"bt-footer\">\n",
       "    <div class=\"copyright1\" style=\" background:#2b2b2b\">\n",
       "        <script src=\"/script/0/210d1f4c6bcf49909019d4a7c8a021c5.js\"></script> \n",
       "    </div>\n",
       "</div>\n",
       "<!--页脚结束-->\n",
       "<!--返回顶部-->\n",
       "<script src=\"/images/25663/bt-jq-TX_1603.js\" type=\"text/javascript\"></script>\n",
       "<div class=\"bt-jq-TX-16031 bt-none\" id=\"bt-jq-TX-1603\">\n",
       "    <a class=\"go\" href=\"javascript:;\">\n",
       "        <!--返回顶部功能--></a>\n",
       "</div>\n",
       "<!-- 代码 结束 -->\n",
       "\n",
       "<!-- visitcount Begin --><iframe frameborder=\"0\" id=\"vishidden\" name=\"vishidden\" src=\"../../module/visitcount/visit.jsp?type=2&amp;i_webid=2757&amp;i_columnid=1384587\" style=\"display:none\"></iframe><!-- visitcount End -->\n",
       "<script language=\"javascript\" src=\"/script/web_front.js\"></script>\n",
       "<script language=\"javascript\" src=\"//zjjcmspublic.oss-cn-hangzhou-zwynet-d01-a.internet.cloud.zj.gov.cn/jcms_files/jcms1/web3242/site/script/0/2005061115113094.js\"></script>\n",
       "\n",
       "</body></html>"
      ]
     },
     "execution_count": 109,
     "metadata": {},
     "output_type": "execute_result"
    }
   ],
   "source": [
    "url_index = f\"https://zcom.zj.gov.cn/col/col1384587/index.html?uid=4450235&pageNum=2\"\n",
    "\n",
    "# 访问链接\n",
    "bs, response = get_bs(url_index)\n",
    "\n",
    "bs\n"
   ]
  },
  {
   "cell_type": "code",
   "execution_count": 96,
   "metadata": {},
   "outputs": [
    {
     "name": "stdout",
     "output_type": "stream",
     "text": [
      "9 0\n"
     ]
    }
   ],
   "source": [
    "text_list = bs.select('li a')\n",
    "time_list = bs.select('.bt-data-time')\n",
    "# time_list = bs.select('.container.ty.jb table>tbody>tr>td[align=\"center\"]')\n",
    "print(len(text_list), len(time_list))"
   ]
  },
  {
   "cell_type": "code",
   "execution_count": null,
   "metadata": {},
   "outputs": [],
   "source": []
  },
  {
   "cell_type": "code",
   "execution_count": 110,
   "metadata": {},
   "outputs": [],
   "source": [
    "with open(\"text.txt\", 'w') as f:\n",
    "    f.write(response.text)"
   ]
  },
  {
   "cell_type": "code",
   "execution_count": 120,
   "metadata": {},
   "outputs": [
    {
     "name": "stdout",
     "output_type": "stream",
     "text": [
      "href: /art/2024/4/30/art_1384587_58944574.html\n",
      "title: 关于公开征求《关于促进浙江省餐饮业高质量发展的指导意见（征求意见稿）》意见的公告\n",
      "date: 2024-04-30\n",
      "\n",
      "href: /art/2024/4/15/art_1384587_58944499.html\n",
      "title: 浙江省商务厅关于“中华老字号”附条件通过企业整改情况的结果公示\n",
      "date: 2024-04-15\n",
      "\n",
      "href: /art/2024/4/9/art_1384587_58944456.html\n",
      "title: 关于2023年度全省境外经贸合作区评价结果的公示\n",
      "date: 2024-04-09\n",
      "\n",
      "href: /art/2024/4/9/art_1384587_58944449.html\n",
      "title: 浙江省商务厅2023年度逾期尚未支付中小企业款项信息情况的公示\n",
      "date: 2024-04-09\n",
      "\n",
      "href: /art/2024/4/7/art_1384587_58944442.html\n",
      "title: 关于2024年度浙江省标准创新贡献奖拟推荐名单的公示\n",
      "date: 2024-04-07\n",
      "\n",
      "href: /art/2024/4/1/art_1384587_58944423.html\n",
      "title: 浙江省商务厅关于全省预拌混凝土行业清洁生产迭代升级第一批创新中心、示范企业、达标企业名单的公示\n",
      "date: 2024-04-01\n",
      "\n",
      "href: /art/2024/3/29/art_1384587_58944414.html\n",
      "title: 关于2023年度省级海外仓复评结果的公示\n",
      "date: 2024-03-29\n",
      "\n",
      "href: /art/2024/3/28/art_1384587_58944400.html\n",
      "title: 浙江省商务厅关于公布2024年重大行政决策事项目录的通知\n",
      "date: 2024-03-28\n",
      "\n",
      "href: /art/2024/3/22/art_1384587_58944320.html\n",
      "title: 浙江省商务厅关于全国首批废旧家电家具等再生资源回收体系建设典型城市和典型企业拟推荐名单公示\n",
      "date: 2024-03-22\n",
      "\n",
      "href: /art/2024/3/14/art_1384587_58944293.html\n",
      "title: 关于公开征求《关于深化内外贸一体化改革创新的若干措施（征求意见稿）》意见的公告\n",
      "date: 2024-03-14\n",
      "\n"
     ]
    }
   ],
   "source": [
    "record_pattern = r'<a href=\"(.*?)\" title=\"(.*?)\"target=\"_blank\" style=\"font-size:17px\">.*?</a>.*?<span .*?>(.*?)</span>'\n",
    "record_pattern = r\"href='(.*?)' title='(.*?)'.*?(\\d{4}-\\d{2}-\\d{2})\"\n",
    "records = re.findall(record_pattern, response.text, re.DOTALL)\n",
    "# print(records)\n",
    "# # 打印结果\n",
    "for record in records:\n",
    "    href, title, date = record\n",
    "    print(\"href:\", href.strip())\n",
    "    print(\"title:\", title.strip())\n",
    "    print(\"date:\", date.strip())\n",
    "    print()"
   ]
  },
  {
   "cell_type": "code",
   "execution_count": null,
   "metadata": {},
   "outputs": [],
   "source": []
  },
  {
   "cell_type": "code",
   "execution_count": 75,
   "metadata": {},
   "outputs": [
    {
     "data": {
      "text/plain": [
       "'2023-03-23'"
      ]
     },
     "execution_count": 75,
     "metadata": {},
     "output_type": "execute_result"
    }
   ],
   "source": [
    "date"
   ]
  },
  {
   "cell_type": "code",
   "execution_count": 20,
   "metadata": {},
   "outputs": [],
   "source": [
    "# 定义正则表达式\n",
    "href_pattern = r'href=\\'(.*?)\\''\n",
    "title_pattern = r'class=\"title\" target=\"_blank\">\\'(.*?)\\'</a>'\n",
    "# date_pattern = r'align=\"center\">(.*?)</td>'\n",
    "date_pattern = r'color:#666666;\">(.*?)</td>'\n",
    "\n",
    "\n",
    "html_content = bs.text\n",
    "# 使用正则表达式进行匹配\n",
    "href_list = re.findall(href_pattern, html_content)\n",
    "title_list = re.findall(title_pattern, html_content)\n",
    "date_list = re.findall(date_pattern, html_content)\n",
    "\n",
    "# 打印结果\n",
    "for href, title, date in zip(href_list, title_list, date_list):\n",
    "    print(\"href:\", href)\n",
    "    print(\"title:\", title)\n",
    "    print(\"date:\", date)\n",
    "    print()"
   ]
  },
  {
   "cell_type": "code",
   "execution_count": 51,
   "metadata": {},
   "outputs": [
    {
     "data": {
      "text/plain": [
       "['2024-04-07',\n",
       " '2024-03-26',\n",
       " '2024-03-08',\n",
       " '2024-02-19',\n",
       " '2024-02-01',\n",
       " '2024-01-23',\n",
       " '2024-01-16',\n",
       " '2024-01-12',\n",
       " '2023-12-22',\n",
       " '2023-12-22',\n",
       " '2023-12-19',\n",
       " '2023-12-15',\n",
       " '2023-12-02',\n",
       " '2023-11-30',\n",
       " '2023-11-01',\n",
       " '2023-10-31',\n",
       " '2023-09-25',\n",
       " '2023-09-07',\n",
       " '2023-09-06',\n",
       " '2023-08-29',\n",
       " '2023-08-28',\n",
       " '2023-07-21',\n",
       " '2023-06-26',\n",
       " '2023-05-29',\n",
       " '2023-05-29',\n",
       " '2023-05-12',\n",
       " '2023-05-09',\n",
       " '2023-04-26',\n",
       " '2023-04-19',\n",
       " '2023-04-17',\n",
       " '2023-04-04',\n",
       " '2023-04-04',\n",
       " '2023-04-03',\n",
       " '2023-02-24',\n",
       " '2023-02-15',\n",
       " '2023-01-13',\n",
       " '2023-01-07',\n",
       " '2023-01-04',\n",
       " '2022-12-26',\n",
       " '2022-12-01',\n",
       " '2022-12-01',\n",
       " '2022-11-23',\n",
       " '2022-11-22',\n",
       " '2022-11-17',\n",
       " '2022-11-11']"
      ]
     },
     "execution_count": 51,
     "metadata": {},
     "output_type": "execute_result"
    }
   ],
   "source": [
    "date_list"
   ]
  },
  {
   "cell_type": "code",
   "execution_count": null,
   "metadata": {},
   "outputs": [],
   "source": []
  },
  {
   "cell_type": "code",
   "execution_count": null,
   "metadata": {},
   "outputs": [],
   "source": []
  },
  {
   "cell_type": "code",
   "execution_count": 80,
   "metadata": {},
   "outputs": [
    {
     "data": {
      "text/plain": [
       "'/gi_news/845171143674522'"
      ]
     },
     "execution_count": 80,
     "metadata": {},
     "output_type": "execute_result"
    }
   ],
   "source": [
    "text_list[3]['href']"
   ]
  },
  {
   "cell_type": "code",
   "execution_count": 81,
   "metadata": {},
   "outputs": [
    {
     "data": {
      "text/plain": [
       "[<td align=\"center\">2024-04-02</td>,\n",
       " <td align=\"center\">2024-03-26</td>,\n",
       " <td align=\"center\">2024-03-26</td>,\n",
       " <td align=\"center\">2024-03-26</td>,\n",
       " <td align=\"center\">2024-03-05</td>,\n",
       " <td align=\"center\">2024-03-05</td>,\n",
       " <td align=\"center\">2024-02-08</td>,\n",
       " <td align=\"center\">2024-01-24</td>,\n",
       " <td align=\"center\">2024-01-23</td>,\n",
       " <td align=\"center\">2024-01-04</td>]"
      ]
     },
     "execution_count": 81,
     "metadata": {},
     "output_type": "execute_result"
    }
   ],
   "source": [
    "[time_list[i + 3] for i in range(0, len(time_list), 4)]"
   ]
  },
  {
   "cell_type": "code",
   "execution_count": 54,
   "metadata": {},
   "outputs": [
    {
     "data": {
      "text/plain": [
       "[<td align=\"center\">1</td>,\n",
       " <td align=\"center\">常发改〔2024〕94号</td>,\n",
       " <td align=\"center\">2024-04-08</td>,\n",
       " <td align=\"center\">2024-04-10</td>,\n",
       " <td align=\"center\">2</td>,\n",
       " <td align=\"center\"></td>,\n",
       " <td align=\"center\">2024-04-10</td>,\n",
       " <td align=\"center\">2024-04-10</td>,\n",
       " <td align=\"center\">3</td>,\n",
       " <td align=\"center\">常信用办〔2024〕4号</td>,\n",
       " <td align=\"center\">2024-04-09</td>,\n",
       " <td align=\"center\">2024-04-10</td>,\n",
       " <td align=\"center\">4</td>,\n",
       " <td align=\"center\">常发改〔2024〕84号</td>,\n",
       " <td align=\"center\">2024-03-29</td>,\n",
       " <td align=\"center\">2024-03-29</td>,\n",
       " <td align=\"center\">5</td>,\n",
       " <td align=\"center\"></td>,\n",
       " <td align=\"center\">2024-02-29</td>,\n",
       " <td align=\"center\">2024-03-11</td>,\n",
       " <td align=\"center\">6</td>,\n",
       " <td align=\"center\">常信用办〔2024〕2号</td>,\n",
       " <td align=\"center\">2024-03-07</td>,\n",
       " <td align=\"center\">2024-03-07</td>,\n",
       " <td align=\"center\">7</td>,\n",
       " <td align=\"center\">常发改〔2024〕66号</td>,\n",
       " <td align=\"center\">2024-03-06</td>,\n",
       " <td align=\"center\">2024-03-06</td>,\n",
       " <td align=\"center\">8</td>,\n",
       " <td align=\"center\"></td>,\n",
       " <td align=\"center\">2024-03-06</td>,\n",
       " <td align=\"center\">2024-03-06</td>,\n",
       " <td align=\"center\">9</td>,\n",
       " <td align=\"center\">常发改〔2024〕43号</td>,\n",
       " <td align=\"center\">2024-02-05</td>,\n",
       " <td align=\"center\">2024-02-05</td>,\n",
       " <td align=\"center\">10</td>,\n",
       " <td align=\"center\"></td>,\n",
       " <td align=\"center\">2024-02-01</td>,\n",
       " <td align=\"center\">2024-02-01</td>]"
      ]
     },
     "execution_count": 54,
     "metadata": {},
     "output_type": "execute_result"
    }
   ],
   "source": [
    "time_list"
   ]
  },
  {
   "cell_type": "code",
   "execution_count": 55,
   "metadata": {},
   "outputs": [
    {
     "data": {
      "text/plain": [
       "'2024-04-10'"
      ]
     },
     "execution_count": 55,
     "metadata": {},
     "output_type": "execute_result"
    }
   ],
   "source": [
    "time_list[3].get_text(strip=True)"
   ]
  },
  {
   "cell_type": "code",
   "execution_count": 44,
   "metadata": {},
   "outputs": [
    {
     "ename": "TypeError",
     "evalue": "'NoneType' object is not subscriptable",
     "output_type": "error",
     "traceback": [
      "\u001b[0;31m---------------------------------------------------------------------------\u001b[0m",
      "\u001b[0;31mTypeError\u001b[0m                                 Traceback (most recent call last)",
      "Cell \u001b[0;32mIn[44], line 1\u001b[0m\n\u001b[0;32m----> 1\u001b[0m \u001b[43mbs\u001b[49m\u001b[38;5;241;43m.\u001b[39;49m\u001b[43mfind\u001b[49m\u001b[43m(\u001b[49m\u001b[38;5;124;43m'\u001b[39;49m\u001b[38;5;124;43ma\u001b[39;49m\u001b[38;5;124;43m'\u001b[39;49m\u001b[43m,\u001b[49m\u001b[43m \u001b[49m\u001b[43m{\u001b[49m\u001b[38;5;124;43m'\u001b[39;49m\u001b[38;5;124;43mclass\u001b[39;49m\u001b[38;5;124;43m'\u001b[39;49m\u001b[43m:\u001b[49m\u001b[43m \u001b[49m\u001b[38;5;124;43m'\u001b[39;49m\u001b[38;5;124;43mnext\u001b[39;49m\u001b[38;5;124;43m'\u001b[39;49m\u001b[43m}\u001b[49m\u001b[43m)\u001b[49m\u001b[43m[\u001b[49m\u001b[38;5;124;43m'\u001b[39;49m\u001b[38;5;124;43mhref\u001b[39;49m\u001b[38;5;124;43m'\u001b[39;49m\u001b[43m]\u001b[49m\n",
      "\u001b[0;31mTypeError\u001b[0m: 'NoneType' object is not subscriptable"
     ]
    }
   ],
   "source": [
    "bs.find('a', {'class': 'next'})['href']"
   ]
  },
  {
   "cell_type": "code",
   "execution_count": 27,
   "metadata": {},
   "outputs": [
    {
     "data": {
      "text/plain": [
       "'https://im.dg.gov.cn/dtxw/tzgg/content/post_4183329.html'"
      ]
     },
     "execution_count": 27,
     "metadata": {},
     "output_type": "execute_result"
    }
   ],
   "source": [
    "time_list[0].find('a').get('href')"
   ]
  },
  {
   "cell_type": "code",
   "execution_count": 28,
   "metadata": {},
   "outputs": [
    {
     "data": {
      "text/plain": [
       "<a class=\"next\" href=\"https://im.dg.gov.cn/dtxw/tzgg/index_2.html\" id=\"next\">\n",
       "                                    下一页\n",
       "                                </a>"
      ]
     },
     "execution_count": 28,
     "metadata": {},
     "output_type": "execute_result"
    }
   ],
   "source": [
    "bs.find('a', {'class': 'next'})"
   ]
  },
  {
   "cell_type": "code",
   "execution_count": 115,
   "metadata": {},
   "outputs": [
    {
     "name": "stderr",
     "output_type": "stream",
     "text": [
      "/home/zouyou/miniconda3/envs/spider/lib/python3.10/site-packages/urllib3/connectionpool.py:1103: InsecureRequestWarning: Unverified HTTPS request is being made to host 'www.changzhou.gov.cn'. Adding certificate verification is strongly advised. See: https://urllib3.readthedocs.io/en/latest/advanced-usage.html#tls-warnings\n",
      "  warnings.warn(\n"
     ]
    },
    {
     "data": {
      "text/plain": [
       "<!DOCTYPE html PUBLIC \"-//W3C//DTD XHTML 1.0 Transitional//EN\" \"http://www.w3.org/TR/xhtml1/DTD/xhtml1-transitional.dtd\">\n",
       "<html xmlns=\"http://www.w3.org/1999/xhtml\"><head>\n",
       "<meta content=\"text/html; charset=utf-8\" http-equiv=\"Content-Type\"/>\n",
       "<meta content=\"IE=edge,chrome=1\" http-equiv=\"X-UA-Compatible\"/>\n",
       "<meta content=\"常州市人民政府\" name=\"SiteName\"/>\n",
       "<meta content=\"www.changzhou.gov.cn\" name=\"SiteDomain\"/>\n",
       "<meta content=\"3204000002\" name=\"SiteIDCode\"/>\n",
       "<meta content=\"常州市人民政府,常州市,常州,市政府,常州新闻,政务活动,市长之窗,重点领域,政府文件,政策解读,政务公开,新闻发布,在线访谈,网上办事,传媒大厦,奥体中心,恐龙园,天宁寺,淹城,嬉戏谷\" name=\"Description\"/>\n",
       "<meta content=\"常州市人民政府,常州市,常州,市政府,常州新闻,政务活动,市长之窗,重点领域,政府文件,政策解读,政务公开,新闻发布,在线访谈,网上办事,传媒大厦,奥体中心,恐龙园,天宁寺,淹城,嬉戏谷\" name=\"keywords\"/>\n",
       "<meta content=\"常州市人民政府,常州市,常州,市政府,常州新闻,政务活动,市长之窗,重点领域,政府文件,政策解读,政务公开,新闻发布,在线访谈,网上办事,传媒大厦,奥体中心,恐龙园,天宁寺,淹城,嬉戏谷\" name=\"Generator\"/>\n",
       "<meta content=\"关于转发《〈2024年度省基础研究专项资金（自然科学基金）项目指南〉及组织申报项目的通知》的通知\" name=\"ArticleTitle\"/>\n",
       "<meta content=\"2024-03-11 14:23:36\" name=\"PubDate\"/>\n",
       "<meta content=\"市科技局\" name=\"ContentSource\"/>\n",
       "<meta content=\"https://www.changzhou.gov.cn/gi_news/624171013821673\" name=\"Url\"/>\n",
       "<title>关于转发《〈2024年度省基础研究专项资金（自然科学基金）项目指南〉及组织申报项目的通知》的通知</title>\n",
       "<link href=\"/images2024/css/style.css\" rel=\"stylesheet\" type=\"text/css\"/>\n",
       "<link href=\"/js/plyr/plyr.css\" rel=\"stylesheet\" type=\"text/css\"/>\n",
       "<script language=\"javascript\" src=\"/images2017/jquery.min.js\" type=\"text/javascript\"></script>\n",
       "<style type=\"text/css\">\n",
       "table{border-collapse: collapse;}\n",
       ".table_rights{text-align: right;width:28%; vertical-align: top;border-left:1px solid #ccc;padding-left:12px;}\n",
       ".td_title{text-align: left;font-size: 16px; color:#0068b7;padding-bottom:3px;padding-top:8px; font-weight:bold;}\n",
       ".td_news{line-height: 150%; text-align: left;padding-top:10px;}\n",
       "\n",
       ".govinfo_frame td{ font-size:14px;}\n",
       ".govinfo_title{color:#0C64B5; font-weight:bold;}\n",
       "\n",
       "/*关联信息*/\n",
       ".relevant_frame{width:1000px; padding:10px 20px; background-color:#FFFEF4; border:1px solid #E2CBA6; margin:0 auto 20px auto;}\n",
       ".relevant_class{font-size:18px; padding:2px 0 2px 10px; font-weight:bold; color:#CA2403;}\n",
       ".relevant_title{font-size:16px; height:28px; line-height:28px;}\n",
       "</style>\n",
       "<!-- Author www.czfx.cn-->\n",
       "<style type=\"text/css\">\n",
       ".yx_style_{display:block !important;overflow:hidden !important;width:0 !important;height:0 !important;}\n",
       "</style>\n",
       "<script language=\"javascript\" src=\"/js/common.js\"></script>\n",
       "</head>\n",
       "\n",
       "<body style=\"background-color:#ebebeb;\">\n",
       "<div class=\"nav_banner\">\n",
       "    <div class=\"top_main\">\n",
       "        <div class=\"top_main_l\">\n",
       "            <ul>\n",
       "                <li id=\"app\">\n",
       "                    <a href=\"/ns_class/MyChangZhou\">我的常州  </a>\n",
       "                    <div class=\"popover bottom\" id=\"app_popover\" style=\"\">\n",
       "                        <div class=\"arrow\" style=\"left: 50%;\"></div>\n",
       "                        <div class=\"popover-content\"><img src=\"/images2024/images/right-nav-erweima-wdcz.jpg\" style=\"width: 100px;height: 100px;\"/></div>\n",
       "                    </div>\n",
       "                </li>\n",
       "                <li>\n",
       "                    <a class=\"czheader-qita\" confirm=\"false\" href=\"/page_znwdpt\" style=\"background-position-x:0;\" target=\"_blank\" title=\"智能问答\">  智能问答  </a>\n",
       "                </li>\n",
       "                <li id=\"yd\">\n",
       "                    <a href=\"/ns_class/wap\">  移动服务  </a>\n",
       "                    <div class=\"popover bottom\" id=\"app_popover1\" style=\"\">\n",
       "                        <div class=\"arrow\" style=\"left: 50%;\"></div>\n",
       "                        <div class=\"popover-content\"><img src=\"/images2024/images/right-nav-erweima-wap.jpg\" style=\"width: 100px;height: 100px;\"/></div>\n",
       "                    </div>\n",
       "                </li>\n",
       "                <li>\n",
       "                    <a href=\"http://mail.changzhou.gov.cn/\">  政务邮箱  </a>\n",
       "                </li>\n",
       "                <li>\n",
       "                    <a href=\"https://ucenter.changzhou.gov.cn/people/login/index\">  个人中心</a>\n",
       "                </li>\n",
       "            </ul>\n",
       "        </div>\n",
       "        <div class=\"top_main_r\">\n",
       "            <ul>\n",
       "                <li>\n",
       "                    <a href=\"javascript:StranBody()\" id=\"StranLink\" name=\"StranLink\" style=\"cursor:point;font-size:15px;\" title=\"點擊以繁體中文方式瀏覽\">  繁  |</a>\n",
       "                </li>\n",
       "                <li>\n",
       "                    <span id=\"czheader-lan-sel\" style=\"float: right;font-size: 15px;color:#ffffff;\">  English  |\n",
       "                        <div id=\"czheader-lan-list\">\n",
       "                              <ul>\n",
       "                                <li><a href=\"/ns_class/english\" target=\"_blank\">English</a></li>\n",
       "                                <li><a href=\"/ns_class/jap\" target=\"_blank\">日本語</a></li>\n",
       "                                <li><a href=\"/ns_class/kor\" target=\"_blank\"><img src=\"/images2019/hanguoyu.png\"/></a></li>\n",
       "                              </ul>\n",
       "                        </div>\n",
       "                    </span>\n",
       "                </li>\n",
       "                <li>\n",
       "                    <a href=\"/statics/wza/\" target=\"_blank\" title=\"无障碍浏览\">  无障碍浏览  </a>\n",
       "                </li>\n",
       "                <li id=\"ucenter_span\">\n",
       "                    <a href=\"https://ucenter.changzhou.gov.cn/people/login/index\" target=\"_blank\">登录</a>\n",
       "                </li>\n",
       "                <script language=\"JavaScript\" src=\"/images2017/jfzh.js\" type=\"text/javascript\"></script>\n",
       "            </ul>\n",
       "        </div>\n",
       "        <div class=\"clearfix\"></div>\n",
       "    </div>\n",
       "    <div class=\"guohui_bg\" style=\"\">\n",
       "        <div class=\"guohui_left\">\n",
       "            <img src=\"/images2024/images/logo.png\"/>\n",
       "        </div>\n",
       "        <div class=\"guohui_right\">\n",
       "            <div class=\"searchform\">\n",
       "                <form action=\"/search/site.php\" id=\"searchform\" method=\"get\" name=\"searchform\" target=\"_blank\">\n",
       "                    <div class=\"searchbox\">\n",
       "                        <input class=\"czheader-select_input\" id=\"keyword\" name=\"keyword\" onblur=\"if(this.value==''){this.value='-请输入关键词-';this.style.color='#7B7E85';}else{this.style.color='#555'}\" onfocus=\"if(this.value=='-请输入关键词-'){this.value='';}this.style.color='#555'\" type=\"text\" value=\"-请输入关键词-\"/>\n",
       "                        <img src=\"/images2024/index/images/search1.png\"/>\n",
       "                        <input class=\"czheader-select_sousuo\" id=\"button\" name=\"button\" style=\"cursor:pointer;\" type=\"submit\" value=\"\"/>\n",
       "                    </div>\n",
       "                </form>\n",
       "            </div>\n",
       "        </div>\n",
       "        <div class=\"clearfix\"></div>\n",
       "    </div>\n",
       "</div>\n",
       "<div id=\"nav\">\n",
       "    <ul>\n",
       "        <li><a href=\"/\">首页</a></li>\n",
       "        <li class=\"\"><a href=\"/ns_class/zjcz\">走进常州</a></li>\n",
       "        <li><a href=\"/ns_class/xwzx\">新闻中心</a></li>\n",
       "        <li><a href=\"/ns_class/zfxxgk\">政务公开</a></li>\n",
       "        <li><a href=\"/ns_class/fwdt\">办事服务</a></li>\n",
       "        <li><a href=\"/ns_class/myhd\">政民互动</a></li>\n",
       "        <li><a href=\"/ns_class/xwzx_07\">专题专栏</a></li>\n",
       "        <li style=\"border-right: 1px solid #ffffff;border-color:rgba(255, 255, 255, 0.2);\"><a href=\"/ns_class/sjfb\">数据发布</a></li>\n",
       "        <div class=\"clearfix\"></div>\n",
       "    </ul>\n",
       "</div>\n",
       "<script language=\"JavaScript\" src=\"/images2017/ucenter.js\" type=\"text/javascript\"></script>\n",
       "<div class=\"container8\" id=\"czfxtext\" style=\"margin-top:25px;\">\n",
       "<table align=\"center\" border=\"0\" cellpadding=\"0\" cellspacing=\"0\" width=\"94%\">\n",
       "  <tbody><tr>\n",
       "    <td class=\"wzdh2019\"><div class=\"wzdh-head2019 text1\">您当前的位置：</div>\n",
       "      <div class=\"wzdh-text2019 text1\"><a href=\"/\">首页</a> &gt;&gt; <a href=\"/ns_class/zfxxgk\">政务公开</a> &gt;&gt; 正文</div>\n",
       "      <div class=\"text1\" style=\"float:right; line-height:40px;\">浏览次数：<strong><span id=\"hits\"></span></strong></div></td>\n",
       "  </tr>\n",
       "</tbody></table>\n",
       "<table align=\"center\" border=\"0\" cellpadding=\"0\" cellspacing=\"0\" width=\"1240\">\n",
       "  <tbody><tr>\n",
       "    <td bgcolor=\"#FFFFFF\" height=\"400\" style=\"background-color:#FFF;\" valign=\"top\">\n",
       "            <table border=\"0\" cellpadding=\"0\" cellspacing=\"0\" width=\"100\">\n",
       "        <tbody><tr>\n",
       "          <td height=\"30\"></td>\n",
       "        </tr>\n",
       "      </tbody></table>\n",
       "      <table align=\"center\" border=\"0\" cellpadding=\"15\" cellspacing=\"0\" style=\"border:8px solid #F3F3F3; background-color:#DDD;\" width=\"94%\">\n",
       "        <tbody><tr>\n",
       "          <td bgcolor=\"#FFFFFF\"><table align=\"center\" border=\"0\" cellpadding=\"0\" cellspacing=\"0\" class=\"govinfo_frame\" width=\"100%\">\n",
       "            <tbody><tr>\n",
       "              <td colspan=\"3\" height=\"30\"><span class=\"govinfo_title\">信息名称：</span>关于转发《〈2024年度省基础研究专项资金（自然科学基金）项目指南〉及组织申报项目的通知》的通知</td>\n",
       "              </tr>\n",
       "            <tr>\n",
       "              <td colspan=\"3\" height=\"30\"><span class=\"govinfo_title\">索 引 号：</span>014109496/2024-00021</td>\n",
       "              </tr>\n",
       "            <tr>\n",
       "              <td height=\"30\" width=\"335\"><span class=\"govinfo_title\">法定主动公开分类：</span>公告公示</td>\n",
       "              <td height=\"30\" width=\"335\"><span class=\"govinfo_title\">公开方式：</span>主动公开</td>\n",
       "              <td colspan=\"2\"></td>\n",
       "              </tr>\n",
       "            <tr>\n",
       "              <td height=\"30\" width=\"335\"><span class=\"govinfo_title\">文件编号：</span></td>\n",
       "              <td colspan=\"2\"><span class=\"govinfo_title\">发布机构：</span>市科技局</td>\n",
       "              </tr>\n",
       "            <tr>\n",
       "              <td height=\"30\" width=\"335\"><span class=\"govinfo_title\">生成日期：</span>2024-03-11</td>\n",
       "              <td width=\"226\"><span class=\"govinfo_title\">公开日期：</span>2024-03-11</td>\n",
       "              <td width=\"298\"><span class=\"govinfo_title\">废止日期：</span>2024-04-02</td>\n",
       "              </tr>\n",
       "            <tr>\n",
       "              <td colspan=\"3\" height=\"30\"><span class=\"govinfo_title\">内容概述：</span><span style=\"line-height:200%;\">关于转发《〈2024年度省基础研究专项资金（自然科学基金）项目指南〉及组织申报项目的通知》的通知</span></td>\n",
       "              </tr>\n",
       "            </tbody></table></td>\n",
       "          </tr>\n",
       "        </tbody></table>\n",
       "      <div style=\"height:20px;\"></div>\n",
       "                \n",
       "      \n",
       "      <div style=\"height:20px;\"></div>\n",
       "      <table align=\"center\" border=\"0\" cellpadding=\"0\" cellspacing=\"0\" id=\"govhtbt_content\" style=\"border-bottom:3px solid #F00; margin-bottom:20px; display:none;\" width=\"88%\">\n",
       "        <tbody><tr>\n",
       "          <td align=\"center\" id=\"govhtbt\" style=\"font-size:50px; color:#F03; FONT-FAMILY: 宋体; font-weight:bold; line-height:55px;\"></td>\n",
       "        </tr>\n",
       "        <tr>\n",
       "          <td align=\"center\" height=\"50\" style=\"font-size:16px;\"></td>\n",
       "        </tr>\n",
       "      </tbody></table>\n",
       "      <script language=\"javascript\">\n",
       "          // 如果有红头标题，那么显示。\n",
       "          if (document.getElementById('govhtbt').innerHTML!=\"\"){\n",
       "              document.getElementById('govhtbt_content').style.display='';\n",
       "          }\n",
       "      </script>\n",
       "      <div id=\"czfxfontzoom\" style=\"min-height: 20px;width: 90%;margin:0px auto;\">\n",
       "\n",
       "      </div>\n",
       "      <!--\n",
       "      阿里语音播报\n",
       "      <script type=\"text/javascript\">\n",
       "        $(function () {\n",
       "          $.getScript('/js/plyr/plyr.js', function () {\n",
       "            $.ajax({\n",
       "              url: \"/api/get_voice_file.php\",\n",
       "              type: 'get',\n",
       "              data: {\n",
       "                type: 'gi',\n",
       "                fid: \"624171013821673\"\n",
       "              },\n",
       "            }).then(function (url) {\n",
       "              if (!url || !plyr) return;\n",
       "              var audioBox = $('<div class=\"audio-box\"><p class=\"audio-text\">无障碍语音播报</p><audio id=\"audio\" crossorigin playsinline><source src=\"' + url + '\" type=\"audio/mp3\"></audio></div>')\n",
       "              $('#czfxfontzoom').prepend(audioBox);\n",
       "              plyr.setup('#audio', {\n",
       "                controls: ['play-large', 'play', 'progress', 'current-time', 'captions'],\n",
       "              });\n",
       "            })\n",
       "          })\n",
       "        })\n",
       "      </script>\n",
       "      -->\n",
       "      <table align=\"center\" border=\"0\" cellpadding=\"0\" cellspacing=\"0\" width=\"90%\">\n",
       "        <tbody><tr>\n",
       "          <td style=\"text-align:center; font-size:20px; font-weight:bold; padding-bottom:30px;\" valign=\"top\">关于转发《〈2024年度省基础研究专项资金（自然科学基金）项目指南〉及组织申报项目的通知》的通知</td>\n",
       "          </tr>\n",
       "        <tr>\n",
       "          <td class=\"GovInfoContent\" height=\"400\" valign=\"top\">\n",
       "            <p>\n",
       "\t各辖市（区）科技局、各有关单位：\n",
       "</p>\n",
       "<p style=\"text-indent:2em;\">\n",
       "\t江苏省科学技术厅、江苏省财政厅印发《〈2024年度省基础研究专项资金（自然科学基金）项目指南〉及组织申报项目的通知》（苏科资发<span style=\"color:#000000;\">〔2024〕</span><span style=\"color:red;\"></span><span style=\"color:#000000;\">35号</span>号），现转发给你们，请按省科技厅的通知要求抓紧做好项目的组织申报工作（相关文件请至“项目申报材料在省科技计划管理信息平台”网站下载）。为更好地做好2024年度我市申报省基础研究专项资金（自然科学基金）项目的审核推荐工作，请各单位于2024年4月1日17:00前上传相关申报材料。<span style=\"background-color:;\"></span>\n",
       "</p>\n",
       "<p style=\"text-indent:2em;\">\n",
       "\t联系人：汤夕勤，联系电话：85681539\n",
       "</p>\n",
       "<p style=\"text-indent:2em;\">\n",
       "\t附件：1.<a href=\"/upfiles/admininfo/20240311/20240311142243_70826.pdf\" target=\"_blank\">江苏省科学技术厅、江苏省财政厅关于印发《2024年度省基础研究专项资金（自然科学基金）项目指南》及组织申报项目的通知</a> \n",
       "</p>\n",
       "<p style=\"text-indent:2em;\">\n",
       "\t          2.<a href=\"/upfiles/admininfo/20240311/20240311142258_84914.zip\" target=\"_blank\">江苏省科技计划项目申报书</a> \n",
       "</p>\n",
       "<p align=\"right\" style=\"text-indent:2em;\">\n",
       "\t常州市科学技术局\n",
       "</p>\n",
       "<p align=\"right\" style=\"text-indent:2em;\">\n",
       "\t2024年3月11日\n",
       "</p>            <div style=\"background:url(/images/shortcur_down.gif) no-repeat 0 50%; padding:10px 10px 10px 25px; font-weight:bold; margin-top:20px; border-top:1px solid #EEE;\"><a href=\"/downxxgk.php?fid=624171013821673\" style=\"color:#00C;\" title=\"点击下载\">下载本信息公开文件</a></div>\n",
       "            <div style=\"text-align: center;margin-top: 30px;\"><p style=\"color: gray;text-align: center;\">扫一扫在手机打开当前页</p><img src=\"/tools/generate_qr.php?data=http://www.changzhou.gov.cn/gi_news/624171013821673\" style=\"width: 160px;height: 160px;\"/></div>\n",
       "            </td>\n",
       "          </tr>\n",
       "                <tr>\n",
       "          <td class=\"GovInfoContent\" style=\"line-height: 25px;\" valign=\"top\">\n",
       "            <hr style=\"margin-top:40px;margin-bottom:8px;\"/>\n",
       "            <span style=\"font-weight:bold;font-size:16px;\">相关阅读：</span><br/>\n",
       "            <ul style=\"padding-left: 15px;\">\n",
       "                            </ul>\n",
       "            </td>\n",
       "          </tr>\n",
       "                </tbody></table>\n",
       "      <div style=\"height:50px;\"></div>\n",
       "      </td>\n",
       "  </tr>\n",
       "</tbody></table>\n",
       "</div>\n",
       "<div style=\"height:20px;\"></div>\n",
       "<div class=\"footer\">\n",
       "        <div class=\"footer_con m\">\n",
       "            <p><a href=\"/ns_class/qt_11\" target=\"_blank\">联系我们</a>　|　<a href=\"/ns_class/qt_12\" target=\"_blank\">网站地图</a>　|　<a href=\"/stat/\" target=\"_blank\">访问统计</a>　|　<a href=\"/gova/wzjc/\" target=\"_blank\">网站纠错</a><br/>\n",
       "                主办：常州市人民政府办公室　承办：常州市大数据管理局　版权所有：常州市人民政府　电子邮箱：czwgzx@changzhou.gov.cn<br/>\n",
       "                地址：常州市龙城大道1280号 (市行政中心)3号楼B座116室　技术支持电话：0519-85685023<br/>\n",
       "                <a href=\"http://www.beian.gov.cn/portal/registerSystemInfo?recordcode=32041102000483\" target=\"_blank\">苏公网安备32041102000483号</a>　网站标识码：3204000002　<a href=\"https://beian.miit.gov.cn/\" target=\"_blank\">苏ICP备05003616号</a>   <span>网站支持IPV6</span>\n",
       "            </p>\n",
       "            <div class=\"wzbs\">\n",
       "                <a href=\"http://bszs.conac.cn/sitename?method=show&amp;id=0808DD6127E40ADBE053012819AC9965\" onclick=\"return confirm('是否离开本站，前往外部站点？');\" target=\"_blank\"><img alt=\"\" src=\"/images2024/index/images/bottom_dzjg.png\"/></a>\n",
       "                <a href=\"#\" onclick='window.open(\"/api/jiucuo.php?site_code=3204000002&amp;url=\"+window.location.href);return false;' target=\"_blank\"><img alt=\"\" src=\"/images2024/index/images/bottom_jiucuo.png\"/></a>\n",
       "            </div>\n",
       "        </div>\n",
       "    </div>\n",
       "<link href=\"/images2024/index/css/right_banner.css\" rel=\"stylesheet\" type=\"text/css\"/>\n",
       "<script src=\"/images2024/js/right_banner.js\" type=\"text/javascript\"></script>\n",
       "\n",
       "\n",
       "<script language=\"javascript\" type=\"text/javascript\">\n",
       "\t$(\"html,body\").animate({scrollTop:$(\"#czfxtext\").offset().top},500)\t/*页面移动到指定锚点位置*/\n",
       "</script>\n",
       "<script language=\"JavaScript\" src=\"/plugin/FlowStat/stat.js\"></script><script type=\"text/javascript\">console.log(\"templates_2024/gi/详细内容_带索引号_new2019.html\");</script><!--2024-03-13 16:19:54--><!--memcached--></body></html>"
      ]
     },
     "execution_count": 115,
     "metadata": {},
     "output_type": "execute_result"
    }
   ],
   "source": [
    "u = \"https://www.changzhou.gov.cn/gi_news/624171013821673\"\n",
    "\n",
    "\n",
    "# 访问链接\n",
    "bs, response = get_bs(u)\n",
    "\n",
    "bs"
   ]
  },
  {
   "cell_type": "code",
   "execution_count": 116,
   "metadata": {},
   "outputs": [
    {
     "data": {
      "text/plain": [
       "'废止日期：2024-04-02'"
      ]
     },
     "execution_count": 116,
     "metadata": {},
     "output_type": "execute_result"
    }
   ],
   "source": [
    "a = bs.find(width=\"298\").get_text()\n",
    "a"
   ]
  },
  {
   "cell_type": "code",
   "execution_count": 117,
   "metadata": {},
   "outputs": [
    {
     "data": {
      "text/plain": [
       "True"
      ]
     },
     "execution_count": 117,
     "metadata": {},
     "output_type": "execute_result"
    }
   ],
   "source": [
    "\"废止日期\" in bs.find(width=\"298\").get_text() and \"有效\" not in bs.find(width=\"298\").get_text()"
   ]
  },
  {
   "cell_type": "code",
   "execution_count": 118,
   "metadata": {},
   "outputs": [
    {
     "data": {
      "text/plain": [
       "'2024-04-02'"
      ]
     },
     "execution_count": 118,
     "metadata": {},
     "output_type": "execute_result"
    }
   ],
   "source": [
    "a.split(\"废止日期：\")[-1] "
   ]
  },
  {
   "cell_type": "code",
   "execution_count": 119,
   "metadata": {},
   "outputs": [
    {
     "data": {
      "text/plain": [
       "True"
      ]
     },
     "execution_count": 119,
     "metadata": {},
     "output_type": "execute_result"
    }
   ],
   "source": [
    "a.split(\"废止日期：\")[-1] < now"
   ]
  },
  {
   "cell_type": "code",
   "execution_count": 65,
   "metadata": {},
   "outputs": [
    {
     "data": {
      "text/plain": [
       "<td width=\"298\"><span class=\"govinfo_title\">废止日期：<span style=\"color: #333;font-weight: normal;\">有效</span></span></td>"
      ]
     },
     "execution_count": 65,
     "metadata": {},
     "output_type": "execute_result"
    }
   ],
   "source": [
    "bs.find(width=\"298\")"
   ]
  },
  {
   "cell_type": "code",
   "execution_count": null,
   "metadata": {},
   "outputs": [],
   "source": []
  },
  {
   "cell_type": "code",
   "execution_count": 75,
   "metadata": {},
   "outputs": [],
   "source": [
    "import json\n",
    "\n",
    "def get_response(url, pageNum=3, startrecord=46, endrecord=90):\n",
    "    headers = {\n",
    "        \"Accept\": \"application/xml, text/xml, */*; q=0.01\",\n",
    "        \"Accept-Encoding\": \"gzip, deflate, br, zstd\",\n",
    "        \"Accept-Language\": \"zh-CN,zh;q=0.9,en;q=0.8,en-GB;q=0.7,en-US;q=0.6\",\n",
    "        \"Connection\": \"keep-alive\",\n",
    "        \"Content-Length\": \"210\",\n",
    "        \"Content-Type\": \"application/x-www-form-urlencoded; charset=UTF-8\",\n",
    "        \"Cookie\": \"JSESSIONID=C1446376FEAB295F946A75DCCFC3DF89; arialoadData=false; zh_choose_undefined=s; ZJZWFWSESSIONID=913cb8f6-7750-4320-ae36-6b9a57acfd77; SERVERID=b2ba659a0bf802d127f2ffc5234eeeba|1714963558|1714961397\",\n",
    "        \"Host\": \"fzggw.zj.gov.cn\",\n",
    "        \"Origin\": \"https://fzggw.zj.gov.cn\",\n",
    "        \"Referer\": \"https://fzggw.zj.gov.cn/col/col1599544/index.html?uid=4892867&pageNum=3&startrecord=46&endrecord=90\",\n",
    "        \"Sec-Fetch-Dest\": \"empty\",\n",
    "        \"Sec-Fetch-Mode\": \"cors\",\n",
    "        \"Sec-Fetch-Site\": \"same-origin\",\n",
    "        \"User-Agent\": 'Mozilla/5.0 (Windows NT 10.0; Win64; x64) AppleWebKit/537.36 (KHTML, like Gecko) Chrome/124.0.0.0 Safari/537.36 Edg/124.0.0.0',\n",
    "        \"X-Requested-With\": \"XMLHttpRequest\",\n",
    "        \"sec-ch-ua\": '\"Chromium\";v=\"124\", \"Microsoft Edge\";v=\"124\", \"Not-A.Brand\";v=\"99\"',\n",
    "        \"sec-ch-ua-mobile\": \"?0\",\n",
    "        \"sec-ch-ua-platform\": \"Windows\"\n",
    "        }\n",
    "\n",
    "    post_data = {\"col\": \"1\", \"appid\": \"1\", \"webid\": \"3185\", \"path\": \"/\", \"columnid\": \"1599544\", \"sourceContentType\": \"1\", \"unitid\": \"4892867\", \"webname\": \"浙江省发展和改革委员会\", \"permissiontype\": \"0\"}\n",
    "    response = requests.post(url, headers=headers, data=json.dumps(post_data))\n",
    "    response.encoding = 'utf-8'\n",
    "    \n",
    "    return response"
   ]
  },
  {
   "cell_type": "code",
   "execution_count": 76,
   "metadata": {},
   "outputs": [],
   "source": [
    "url_index = f\"https://fzggw.zj.gov.cn/module/jpage/dataproxy.jsp?startrecord=46&endrecord=90&perpage=15\"\n",
    "response = get_response(url_index)\n",
    "if response.status_code != 200:\n",
    "    raise ConnectionError(\"请求失败……\") \n",
    "# 解析json\n",
    "# json_data = json.loads(response.text)"
   ]
  },
  {
   "cell_type": "code",
   "execution_count": 77,
   "metadata": {},
   "outputs": [
    {
     "data": {
      "text/plain": [
       "'\\r\\n\\r\\n\\r\\n\\r\\n\\r\\n\\r\\n\\r\\n\\r\\n\\r\\n\\r\\n\\r\\n\\r\\n \\r\\n\\r\\n\\r\\n\\r\\n\\r\\n\\r\\n\\r\\n\\r\\n\\r\\n'"
      ]
     },
     "execution_count": 77,
     "metadata": {},
     "output_type": "execute_result"
    }
   ],
   "source": [
    "response.text"
   ]
  },
  {
   "cell_type": "code",
   "execution_count": 68,
   "metadata": {},
   "outputs": [
    {
     "data": {
      "text/plain": [
       "<Response [200]>"
      ]
     },
     "execution_count": 68,
     "metadata": {},
     "output_type": "execute_result"
    }
   ],
   "source": [
    "response"
   ]
  },
  {
   "cell_type": "code",
   "execution_count": null,
   "metadata": {},
   "outputs": [],
   "source": []
  }
 ],
 "metadata": {
  "kernelspec": {
   "display_name": "spider",
   "language": "python",
   "name": "python3"
  },
  "language_info": {
   "codemirror_mode": {
    "name": "ipython",
    "version": 3
   },
   "file_extension": ".py",
   "mimetype": "text/x-python",
   "name": "python",
   "nbconvert_exporter": "python",
   "pygments_lexer": "ipython3",
   "version": "3.9.18"
  }
 },
 "nbformat": 4,
 "nbformat_minor": 2
}
